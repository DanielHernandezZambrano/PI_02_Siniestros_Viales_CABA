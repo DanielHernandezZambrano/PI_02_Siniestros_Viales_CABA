{
 "cells": [
  {
   "cell_type": "markdown",
   "metadata": {},
   "source": [
    "# **EDA (Análisis exploratorio de datos)**  \n",
    "Este análisis se realiza con la finalidad de encontrar patrones que provean de información útil y necesaria, para  \n",
    "que las autoridades pertinentes realizen los cambios necesarios con el objetivo de reducir y prevenir las víctimas fatales  \n",
    "en accidentes de tránsito en la ciudad de Buenos Aires.  \n",
    "  \n",
    "El primer paso es la importación de las librerias:"
   ]
  },
  {
   "cell_type": "code",
   "execution_count": 1,
   "metadata": {},
   "outputs": [],
   "source": [
    "import pandas as pd\n",
    "import numpy as np\n",
    "import matplotlib.pyplot as plt\n",
    "import seaborn as sns\n",
    "import warnings\n",
    "warnings.filterwarnings(\"ignore\")"
   ]
  },
  {
   "cell_type": "markdown",
   "metadata": {},
   "source": [
    "Traemos los datasets necesarios:"
   ]
  },
  {
   "cell_type": "code",
   "execution_count": 2,
   "metadata": {},
   "outputs": [],
   "source": [
    "df_hechos = pd.read_csv(\"./datasets_transformados/hechos.csv\", encoding=\"utf-8\")\n",
    "\n",
    "df_victimas = pd.read_csv(\"./datasets_transformados/victimas.csv\", encoding=\"utf-8\")"
   ]
  },
  {
   "cell_type": "markdown",
   "metadata": {},
   "source": [
    "### **Empezamos con el dataframe: df_hechos (hechos.csv)**\n",
    "\n",
    "#### **Tratamiento de datos nulos:**"
   ]
  },
  {
   "cell_type": "code",
   "execution_count": 3,
   "metadata": {},
   "outputs": [
    {
     "name": "stdout",
     "output_type": "stream",
     "text": [
      "<class 'pandas.core.frame.DataFrame'>\n",
      "RangeIndex: 696 entries, 0 to 695\n",
      "Data columns (total 16 columns):\n",
      " #   Column                 Non-Null Count  Dtype \n",
      "---  ------                 --------------  ----- \n",
      " 0   ID                     696 non-null    object\n",
      " 1   NUMERO_VICTIMAS        696 non-null    int64 \n",
      " 2   FECHA                  696 non-null    object\n",
      " 3   TIEMPO                 695 non-null    object\n",
      " 4   HORA                   696 non-null    object\n",
      " 5   LUGAR_DEL_HECHO        696 non-null    object\n",
      " 6   TIPO_DE_CALLE          696 non-null    object\n",
      " 7   CALLE                  695 non-null    object\n",
      " 8   CRUCE                  525 non-null    object\n",
      " 9   DIRECCION_NORMALIZADA  688 non-null    object\n",
      " 10  COMUNA                 696 non-null    int64 \n",
      " 11  POS_X                  696 non-null    object\n",
      " 12  POS_Y                  696 non-null    object\n",
      " 13  PARTICIPANTES          696 non-null    object\n",
      " 14  VICTIMA                696 non-null    object\n",
      " 15  ACUSADO                696 non-null    object\n",
      "dtypes: int64(2), object(14)\n",
      "memory usage: 87.1+ KB\n"
     ]
    }
   ],
   "source": [
    "df_hechos.info()"
   ]
  },
  {
   "cell_type": "code",
   "execution_count": 4,
   "metadata": {},
   "outputs": [
    {
     "data": {
      "text/plain": [
       "ID                         0\n",
       "NUMERO_VICTIMAS            0\n",
       "FECHA                      0\n",
       "TIEMPO                     1\n",
       "HORA                       0\n",
       "LUGAR_DEL_HECHO            0\n",
       "TIPO_DE_CALLE              0\n",
       "CALLE                      1\n",
       "CRUCE                    171\n",
       "DIRECCION_NORMALIZADA      8\n",
       "COMUNA                     0\n",
       "POS_X                      0\n",
       "POS_Y                      0\n",
       "PARTICIPANTES              0\n",
       "VICTIMA                    0\n",
       "ACUSADO                    0\n",
       "dtype: int64"
      ]
     },
     "execution_count": 4,
     "metadata": {},
     "output_type": "execute_result"
    }
   ],
   "source": [
    "df_hechos.isna().sum()"
   ]
  },
  {
   "cell_type": "markdown",
   "metadata": {},
   "source": [
    "Como se aclaro en el notebook de jupyter: ETL_homicidios.ipynb. La columna 'CRUCE' solo posee nulos cuando la  \n",
    "dirección del accidente no es una intersección entre dos vías.  \n",
    "Aquí se demuestra, observe la columna 'DIRECCION_NORMALIZADA' en la fila 2:"
   ]
  },
  {
   "cell_type": "code",
   "execution_count": 5,
   "metadata": {},
   "outputs": [
    {
     "data": {
      "text/html": [
       "<div>\n",
       "<style scoped>\n",
       "    .dataframe tbody tr th:only-of-type {\n",
       "        vertical-align: middle;\n",
       "    }\n",
       "\n",
       "    .dataframe tbody tr th {\n",
       "        vertical-align: top;\n",
       "    }\n",
       "\n",
       "    .dataframe thead th {\n",
       "        text-align: right;\n",
       "    }\n",
       "</style>\n",
       "<table border=\"1\" class=\"dataframe\">\n",
       "  <thead>\n",
       "    <tr style=\"text-align: right;\">\n",
       "      <th></th>\n",
       "      <th>CALLE</th>\n",
       "      <th>CRUCE</th>\n",
       "      <th>DIRECCION_NORMALIZADA</th>\n",
       "    </tr>\n",
       "  </thead>\n",
       "  <tbody>\n",
       "    <tr>\n",
       "      <th>0</th>\n",
       "      <td>PIEDRA BUENA AV.</td>\n",
       "      <td>FERNANDEZ DE LA CRUZ, F., GRAL. AV.</td>\n",
       "      <td>PIEDRA BUENA AV. y FERNANDEZ DE LA CRUZ, F., G...</td>\n",
       "    </tr>\n",
       "    <tr>\n",
       "      <th>1</th>\n",
       "      <td>PAZ, GRAL. AV.</td>\n",
       "      <td>DE LOS CORRALES AV.</td>\n",
       "      <td>PAZ, GRAL. AV. y DE LOS CORRALES AV.</td>\n",
       "    </tr>\n",
       "    <tr>\n",
       "      <th>2</th>\n",
       "      <td>ENTRE RIOS AV.</td>\n",
       "      <td>NaN</td>\n",
       "      <td>ENTRE RIOS AV. 2034</td>\n",
       "    </tr>\n",
       "    <tr>\n",
       "      <th>3</th>\n",
       "      <td>LARRAZABAL AV.</td>\n",
       "      <td>VILLEGAS, CONRADO, GRAL.</td>\n",
       "      <td>LARRAZABAL AV. y VILLEGAS, CONRADO, GRAL.</td>\n",
       "    </tr>\n",
       "    <tr>\n",
       "      <th>4</th>\n",
       "      <td>SAN JUAN AV.</td>\n",
       "      <td>SAENZ PE?A, LUIS, PRES.</td>\n",
       "      <td>SAN JUAN AV. y SAENZ PEÃ‘A, LUIS, PRES.</td>\n",
       "    </tr>\n",
       "  </tbody>\n",
       "</table>\n",
       "</div>"
      ],
      "text/plain": [
       "              CALLE                                CRUCE  \\\n",
       "0  PIEDRA BUENA AV.  FERNANDEZ DE LA CRUZ, F., GRAL. AV.   \n",
       "1    PAZ, GRAL. AV.                  DE LOS CORRALES AV.   \n",
       "2    ENTRE RIOS AV.                                  NaN   \n",
       "3    LARRAZABAL AV.             VILLEGAS, CONRADO, GRAL.   \n",
       "4      SAN JUAN AV.              SAENZ PE?A, LUIS, PRES.   \n",
       "\n",
       "                               DIRECCION_NORMALIZADA  \n",
       "0  PIEDRA BUENA AV. y FERNANDEZ DE LA CRUZ, F., G...  \n",
       "1               PAZ, GRAL. AV. y DE LOS CORRALES AV.  \n",
       "2                                ENTRE RIOS AV. 2034  \n",
       "3          LARRAZABAL AV. y VILLEGAS, CONRADO, GRAL.  \n",
       "4            SAN JUAN AV. y SAENZ PEÃ‘A, LUIS, PRES.  "
      ]
     },
     "execution_count": 5,
     "metadata": {},
     "output_type": "execute_result"
    }
   ],
   "source": [
    "df_hechos[[\"CALLE\", \"CRUCE\", \"DIRECCION_NORMALIZADA\"]].head(5)"
   ]
  },
  {
   "cell_type": "markdown",
   "metadata": {},
   "source": [
    "Para llenar esos nulos y hacer más intituivo el dataframe, vamos a reemplazar los datos de la columna 'CRUCE'  \n",
    "Si el dato no es nulo se reemplazara por 'SI', pero si es nulo se reemplazar por 'NO'."
   ]
  },
  {
   "cell_type": "code",
   "execution_count": 6,
   "metadata": {},
   "outputs": [
    {
     "data": {
      "text/html": [
       "<div>\n",
       "<style scoped>\n",
       "    .dataframe tbody tr th:only-of-type {\n",
       "        vertical-align: middle;\n",
       "    }\n",
       "\n",
       "    .dataframe tbody tr th {\n",
       "        vertical-align: top;\n",
       "    }\n",
       "\n",
       "    .dataframe thead th {\n",
       "        text-align: right;\n",
       "    }\n",
       "</style>\n",
       "<table border=\"1\" class=\"dataframe\">\n",
       "  <thead>\n",
       "    <tr style=\"text-align: right;\">\n",
       "      <th></th>\n",
       "      <th>CALLE</th>\n",
       "      <th>CRUCE</th>\n",
       "      <th>DIRECCION_NORMALIZADA</th>\n",
       "    </tr>\n",
       "  </thead>\n",
       "  <tbody>\n",
       "    <tr>\n",
       "      <th>0</th>\n",
       "      <td>PIEDRA BUENA AV.</td>\n",
       "      <td>SI</td>\n",
       "      <td>PIEDRA BUENA AV. y FERNANDEZ DE LA CRUZ, F., G...</td>\n",
       "    </tr>\n",
       "    <tr>\n",
       "      <th>1</th>\n",
       "      <td>PAZ, GRAL. AV.</td>\n",
       "      <td>SI</td>\n",
       "      <td>PAZ, GRAL. AV. y DE LOS CORRALES AV.</td>\n",
       "    </tr>\n",
       "    <tr>\n",
       "      <th>2</th>\n",
       "      <td>ENTRE RIOS AV.</td>\n",
       "      <td>NO</td>\n",
       "      <td>ENTRE RIOS AV. 2034</td>\n",
       "    </tr>\n",
       "    <tr>\n",
       "      <th>3</th>\n",
       "      <td>LARRAZABAL AV.</td>\n",
       "      <td>SI</td>\n",
       "      <td>LARRAZABAL AV. y VILLEGAS, CONRADO, GRAL.</td>\n",
       "    </tr>\n",
       "    <tr>\n",
       "      <th>4</th>\n",
       "      <td>SAN JUAN AV.</td>\n",
       "      <td>SI</td>\n",
       "      <td>SAN JUAN AV. y SAENZ PEÃ‘A, LUIS, PRES.</td>\n",
       "    </tr>\n",
       "  </tbody>\n",
       "</table>\n",
       "</div>"
      ],
      "text/plain": [
       "              CALLE CRUCE                              DIRECCION_NORMALIZADA\n",
       "0  PIEDRA BUENA AV.    SI  PIEDRA BUENA AV. y FERNANDEZ DE LA CRUZ, F., G...\n",
       "1    PAZ, GRAL. AV.    SI               PAZ, GRAL. AV. y DE LOS CORRALES AV.\n",
       "2    ENTRE RIOS AV.    NO                                ENTRE RIOS AV. 2034\n",
       "3    LARRAZABAL AV.    SI          LARRAZABAL AV. y VILLEGAS, CONRADO, GRAL.\n",
       "4      SAN JUAN AV.    SI            SAN JUAN AV. y SAENZ PEÃ‘A, LUIS, PRES."
      ]
     },
     "execution_count": 6,
     "metadata": {},
     "output_type": "execute_result"
    }
   ],
   "source": [
    "df_hechos[\"CRUCE\"] = np.where(df_hechos[\"CRUCE\"].notnull(), \"SI\", \"NO\")\n",
    "\n",
    "# Se revisa el resultado\n",
    "df_hechos[[\"CALLE\",\"CRUCE\", \"DIRECCION_NORMALIZADA\"]].head(5)"
   ]
  },
  {
   "cell_type": "code",
   "execution_count": 7,
   "metadata": {},
   "outputs": [
    {
     "data": {
      "text/plain": [
       "ID                       0\n",
       "NUMERO_VICTIMAS          0\n",
       "FECHA                    0\n",
       "TIEMPO                   1\n",
       "HORA                     0\n",
       "LUGAR_DEL_HECHO          0\n",
       "TIPO_DE_CALLE            0\n",
       "CALLE                    1\n",
       "CRUCE                    0\n",
       "DIRECCION_NORMALIZADA    8\n",
       "COMUNA                   0\n",
       "POS_X                    0\n",
       "POS_Y                    0\n",
       "PARTICIPANTES            0\n",
       "VICTIMA                  0\n",
       "ACUSADO                  0\n",
       "dtype: int64"
      ]
     },
     "execution_count": 7,
     "metadata": {},
     "output_type": "execute_result"
    }
   ],
   "source": [
    "df_hechos.isna().sum()"
   ]
  },
  {
   "cell_type": "markdown",
   "metadata": {},
   "source": [
    "Ahora trataremos con las dos columnas que tienen un solo nulo, primero sera la columna 'CALLE'  \n",
    "Vemos esa fila:"
   ]
  },
  {
   "cell_type": "code",
   "execution_count": 8,
   "metadata": {},
   "outputs": [
    {
     "data": {
      "text/html": [
       "<div>\n",
       "<style scoped>\n",
       "    .dataframe tbody tr th:only-of-type {\n",
       "        vertical-align: middle;\n",
       "    }\n",
       "\n",
       "    .dataframe tbody tr th {\n",
       "        vertical-align: top;\n",
       "    }\n",
       "\n",
       "    .dataframe thead th {\n",
       "        text-align: right;\n",
       "    }\n",
       "</style>\n",
       "<table border=\"1\" class=\"dataframe\">\n",
       "  <thead>\n",
       "    <tr style=\"text-align: right;\">\n",
       "      <th></th>\n",
       "      <th>ID</th>\n",
       "      <th>NUMERO_VICTIMAS</th>\n",
       "      <th>FECHA</th>\n",
       "      <th>TIEMPO</th>\n",
       "      <th>HORA</th>\n",
       "      <th>LUGAR_DEL_HECHO</th>\n",
       "      <th>TIPO_DE_CALLE</th>\n",
       "      <th>CALLE</th>\n",
       "      <th>CRUCE</th>\n",
       "      <th>DIRECCION_NORMALIZADA</th>\n",
       "      <th>COMUNA</th>\n",
       "      <th>POS_X</th>\n",
       "      <th>POS_Y</th>\n",
       "      <th>PARTICIPANTES</th>\n",
       "      <th>VICTIMA</th>\n",
       "      <th>ACUSADO</th>\n",
       "    </tr>\n",
       "  </thead>\n",
       "  <tbody>\n",
       "    <tr>\n",
       "      <th>119</th>\n",
       "      <td>2016-0151</td>\n",
       "      <td>1</td>\n",
       "      <td>18/11/2016</td>\n",
       "      <td>20:35:00</td>\n",
       "      <td>20</td>\n",
       "      <td>SD</td>\n",
       "      <td>CALLE</td>\n",
       "      <td>NaN</td>\n",
       "      <td>NO</td>\n",
       "      <td>NaN</td>\n",
       "      <td>0</td>\n",
       "      <td>.</td>\n",
       "      <td>.</td>\n",
       "      <td>PEATON-SD</td>\n",
       "      <td>PEATON</td>\n",
       "      <td>SD</td>\n",
       "    </tr>\n",
       "  </tbody>\n",
       "</table>\n",
       "</div>"
      ],
      "text/plain": [
       "            ID  NUMERO_VICTIMAS       FECHA    TIEMPO HORA LUGAR_DEL_HECHO  \\\n",
       "119  2016-0151                1  18/11/2016  20:35:00   20              SD   \n",
       "\n",
       "    TIPO_DE_CALLE CALLE CRUCE DIRECCION_NORMALIZADA  COMUNA POS_X POS_Y  \\\n",
       "119         CALLE   NaN    NO                   NaN       0     .     .   \n",
       "\n",
       "    PARTICIPANTES VICTIMA ACUSADO  \n",
       "119     PEATON-SD  PEATON      SD  "
      ]
     },
     "execution_count": 8,
     "metadata": {},
     "output_type": "execute_result"
    }
   ],
   "source": [
    "df_hechos[df_hechos[\"CALLE\"].isna()]"
   ]
  },
  {
   "cell_type": "markdown",
   "metadata": {},
   "source": [
    "Debido a la falta de información reemplazaremos por 'SD' (Sin Dato)"
   ]
  },
  {
   "cell_type": "code",
   "execution_count": 9,
   "metadata": {},
   "outputs": [
    {
     "data": {
      "text/html": [
       "<div>\n",
       "<style scoped>\n",
       "    .dataframe tbody tr th:only-of-type {\n",
       "        vertical-align: middle;\n",
       "    }\n",
       "\n",
       "    .dataframe tbody tr th {\n",
       "        vertical-align: top;\n",
       "    }\n",
       "\n",
       "    .dataframe thead th {\n",
       "        text-align: right;\n",
       "    }\n",
       "</style>\n",
       "<table border=\"1\" class=\"dataframe\">\n",
       "  <thead>\n",
       "    <tr style=\"text-align: right;\">\n",
       "      <th></th>\n",
       "      <th>ID</th>\n",
       "      <th>NUMERO_VICTIMAS</th>\n",
       "      <th>FECHA</th>\n",
       "      <th>TIEMPO</th>\n",
       "      <th>HORA</th>\n",
       "      <th>LUGAR_DEL_HECHO</th>\n",
       "      <th>TIPO_DE_CALLE</th>\n",
       "      <th>CALLE</th>\n",
       "      <th>CRUCE</th>\n",
       "      <th>DIRECCION_NORMALIZADA</th>\n",
       "      <th>COMUNA</th>\n",
       "      <th>POS_X</th>\n",
       "      <th>POS_Y</th>\n",
       "      <th>PARTICIPANTES</th>\n",
       "      <th>VICTIMA</th>\n",
       "      <th>ACUSADO</th>\n",
       "    </tr>\n",
       "  </thead>\n",
       "  <tbody>\n",
       "    <tr>\n",
       "      <th>119</th>\n",
       "      <td>2016-0151</td>\n",
       "      <td>1</td>\n",
       "      <td>18/11/2016</td>\n",
       "      <td>20:35:00</td>\n",
       "      <td>20</td>\n",
       "      <td>SD</td>\n",
       "      <td>CALLE</td>\n",
       "      <td>SD</td>\n",
       "      <td>NO</td>\n",
       "      <td>NaN</td>\n",
       "      <td>0</td>\n",
       "      <td>.</td>\n",
       "      <td>.</td>\n",
       "      <td>PEATON-SD</td>\n",
       "      <td>PEATON</td>\n",
       "      <td>SD</td>\n",
       "    </tr>\n",
       "  </tbody>\n",
       "</table>\n",
       "</div>"
      ],
      "text/plain": [
       "            ID  NUMERO_VICTIMAS       FECHA    TIEMPO HORA LUGAR_DEL_HECHO  \\\n",
       "119  2016-0151                1  18/11/2016  20:35:00   20              SD   \n",
       "\n",
       "    TIPO_DE_CALLE CALLE CRUCE DIRECCION_NORMALIZADA  COMUNA POS_X POS_Y  \\\n",
       "119         CALLE    SD    NO                   NaN       0     .     .   \n",
       "\n",
       "    PARTICIPANTES VICTIMA ACUSADO  \n",
       "119     PEATON-SD  PEATON      SD  "
      ]
     },
     "execution_count": 9,
     "metadata": {},
     "output_type": "execute_result"
    }
   ],
   "source": [
    "df_hechos.loc[119, \"CALLE\"] = \"SD\"\n",
    "\n",
    "df_hechos[df_hechos[\"ID\"] == \"2016-0151\"]"
   ]
  },
  {
   "cell_type": "markdown",
   "metadata": {},
   "source": [
    "Ahora trataremos con la columna 'TIEMPO'  \n",
    "Vemos esa fila:"
   ]
  },
  {
   "cell_type": "code",
   "execution_count": 10,
   "metadata": {},
   "outputs": [
    {
     "data": {
      "text/html": [
       "<div>\n",
       "<style scoped>\n",
       "    .dataframe tbody tr th:only-of-type {\n",
       "        vertical-align: middle;\n",
       "    }\n",
       "\n",
       "    .dataframe tbody tr th {\n",
       "        vertical-align: top;\n",
       "    }\n",
       "\n",
       "    .dataframe thead th {\n",
       "        text-align: right;\n",
       "    }\n",
       "</style>\n",
       "<table border=\"1\" class=\"dataframe\">\n",
       "  <thead>\n",
       "    <tr style=\"text-align: right;\">\n",
       "      <th></th>\n",
       "      <th>ID</th>\n",
       "      <th>NUMERO_VICTIMAS</th>\n",
       "      <th>FECHA</th>\n",
       "      <th>TIEMPO</th>\n",
       "      <th>HORA</th>\n",
       "      <th>LUGAR_DEL_HECHO</th>\n",
       "      <th>TIPO_DE_CALLE</th>\n",
       "      <th>CALLE</th>\n",
       "      <th>CRUCE</th>\n",
       "      <th>DIRECCION_NORMALIZADA</th>\n",
       "      <th>COMUNA</th>\n",
       "      <th>POS_X</th>\n",
       "      <th>POS_Y</th>\n",
       "      <th>PARTICIPANTES</th>\n",
       "      <th>VICTIMA</th>\n",
       "      <th>ACUSADO</th>\n",
       "    </tr>\n",
       "  </thead>\n",
       "  <tbody>\n",
       "    <tr>\n",
       "      <th>518</th>\n",
       "      <td>2019-0103</td>\n",
       "      <td>1</td>\n",
       "      <td>18/12/2019</td>\n",
       "      <td>NaN</td>\n",
       "      <td>SD</td>\n",
       "      <td>PAZ, GRAL. AV. Y GRIVEO</td>\n",
       "      <td>GRAL PAZ</td>\n",
       "      <td>PAZ, GRAL. AV.</td>\n",
       "      <td>SI</td>\n",
       "      <td>PAZ, GRAL. AV. y GRIVEO</td>\n",
       "      <td>11</td>\n",
       "      <td>-58.52169422</td>\n",
       "      <td>-34.59471640</td>\n",
       "      <td>MOTO-MOTO</td>\n",
       "      <td>MOTO</td>\n",
       "      <td>MOTO</td>\n",
       "    </tr>\n",
       "  </tbody>\n",
       "</table>\n",
       "</div>"
      ],
      "text/plain": [
       "            ID  NUMERO_VICTIMAS       FECHA TIEMPO HORA  \\\n",
       "518  2019-0103                1  18/12/2019    NaN   SD   \n",
       "\n",
       "             LUGAR_DEL_HECHO TIPO_DE_CALLE           CALLE CRUCE  \\\n",
       "518  PAZ, GRAL. AV. Y GRIVEO      GRAL PAZ  PAZ, GRAL. AV.    SI   \n",
       "\n",
       "       DIRECCION_NORMALIZADA  COMUNA         POS_X         POS_Y  \\\n",
       "518  PAZ, GRAL. AV. y GRIVEO      11  -58.52169422  -34.59471640   \n",
       "\n",
       "    PARTICIPANTES VICTIMA ACUSADO  \n",
       "518     MOTO-MOTO    MOTO    MOTO  "
      ]
     },
     "execution_count": 10,
     "metadata": {},
     "output_type": "execute_result"
    }
   ],
   "source": [
    "df_hechos[df_hechos[\"TIEMPO\"].isna()]"
   ]
  },
  {
   "cell_type": "markdown",
   "metadata": {},
   "source": [
    "Para no dejar este datos como NaN, obtendremos la moda de la columna y lo aplicaremos a esta fila, también reemplazaremos el valor  \n",
    "de la columna 'HORA' por el valor de la moda:"
   ]
  },
  {
   "cell_type": "code",
   "execution_count": 11,
   "metadata": {},
   "outputs": [
    {
     "data": {
      "text/html": [
       "<div>\n",
       "<style scoped>\n",
       "    .dataframe tbody tr th:only-of-type {\n",
       "        vertical-align: middle;\n",
       "    }\n",
       "\n",
       "    .dataframe tbody tr th {\n",
       "        vertical-align: top;\n",
       "    }\n",
       "\n",
       "    .dataframe thead th {\n",
       "        text-align: right;\n",
       "    }\n",
       "</style>\n",
       "<table border=\"1\" class=\"dataframe\">\n",
       "  <thead>\n",
       "    <tr style=\"text-align: right;\">\n",
       "      <th></th>\n",
       "      <th>ID</th>\n",
       "      <th>NUMERO_VICTIMAS</th>\n",
       "      <th>FECHA</th>\n",
       "      <th>TIEMPO</th>\n",
       "      <th>HORA</th>\n",
       "      <th>LUGAR_DEL_HECHO</th>\n",
       "      <th>TIPO_DE_CALLE</th>\n",
       "      <th>CALLE</th>\n",
       "      <th>CRUCE</th>\n",
       "      <th>DIRECCION_NORMALIZADA</th>\n",
       "      <th>COMUNA</th>\n",
       "      <th>POS_X</th>\n",
       "      <th>POS_Y</th>\n",
       "      <th>PARTICIPANTES</th>\n",
       "      <th>VICTIMA</th>\n",
       "      <th>ACUSADO</th>\n",
       "    </tr>\n",
       "  </thead>\n",
       "  <tbody>\n",
       "    <tr>\n",
       "      <th>518</th>\n",
       "      <td>2019-0103</td>\n",
       "      <td>1</td>\n",
       "      <td>18/12/2019</td>\n",
       "      <td>09:00:00</td>\n",
       "      <td>9</td>\n",
       "      <td>PAZ, GRAL. AV. Y GRIVEO</td>\n",
       "      <td>GRAL PAZ</td>\n",
       "      <td>PAZ, GRAL. AV.</td>\n",
       "      <td>SI</td>\n",
       "      <td>PAZ, GRAL. AV. y GRIVEO</td>\n",
       "      <td>11</td>\n",
       "      <td>-58.52169422</td>\n",
       "      <td>-34.59471640</td>\n",
       "      <td>MOTO-MOTO</td>\n",
       "      <td>MOTO</td>\n",
       "      <td>MOTO</td>\n",
       "    </tr>\n",
       "  </tbody>\n",
       "</table>\n",
       "</div>"
      ],
      "text/plain": [
       "            ID  NUMERO_VICTIMAS       FECHA    TIEMPO HORA  \\\n",
       "518  2019-0103                1  18/12/2019  09:00:00    9   \n",
       "\n",
       "             LUGAR_DEL_HECHO TIPO_DE_CALLE           CALLE CRUCE  \\\n",
       "518  PAZ, GRAL. AV. Y GRIVEO      GRAL PAZ  PAZ, GRAL. AV.    SI   \n",
       "\n",
       "       DIRECCION_NORMALIZADA  COMUNA         POS_X         POS_Y  \\\n",
       "518  PAZ, GRAL. AV. y GRIVEO      11  -58.52169422  -34.59471640   \n",
       "\n",
       "    PARTICIPANTES VICTIMA ACUSADO  \n",
       "518     MOTO-MOTO    MOTO    MOTO  "
      ]
     },
     "execution_count": 11,
     "metadata": {},
     "output_type": "execute_result"
    }
   ],
   "source": [
    "# Obtenemos la moda y guardamos la hora\n",
    "hora_moda = df_hechos['TIEMPO'].mode().iloc[0]\n",
    "hora = 9\n",
    "# Reemplazamos el valor\n",
    "df_hechos['TIEMPO'].fillna(hora_moda, inplace=True)\n",
    "\n",
    "df_hechos.loc[518, \"HORA\"] = hora\n",
    "\n",
    "# Verificamos que funciono:\n",
    "df_hechos[df_hechos[\"ID\"] == \"2019-0103\"]"
   ]
  },
  {
   "cell_type": "code",
   "execution_count": 12,
   "metadata": {},
   "outputs": [
    {
     "data": {
      "text/plain": [
       "ID                       0\n",
       "NUMERO_VICTIMAS          0\n",
       "FECHA                    0\n",
       "TIEMPO                   0\n",
       "HORA                     0\n",
       "LUGAR_DEL_HECHO          0\n",
       "TIPO_DE_CALLE            0\n",
       "CALLE                    0\n",
       "CRUCE                    0\n",
       "DIRECCION_NORMALIZADA    8\n",
       "COMUNA                   0\n",
       "POS_X                    0\n",
       "POS_Y                    0\n",
       "PARTICIPANTES            0\n",
       "VICTIMA                  0\n",
       "ACUSADO                  0\n",
       "dtype: int64"
      ]
     },
     "execution_count": 12,
     "metadata": {},
     "output_type": "execute_result"
    }
   ],
   "source": [
    "df_hechos.isna().sum()"
   ]
  },
  {
   "cell_type": "markdown",
   "metadata": {},
   "source": [
    "Como vemos arriba ahora solo nos falta la columna 'DIRECCION_NORMALIZADA'  \n",
    "Vemos esas filas:"
   ]
  },
  {
   "cell_type": "code",
   "execution_count": 13,
   "metadata": {},
   "outputs": [
    {
     "data": {
      "text/html": [
       "<div>\n",
       "<style scoped>\n",
       "    .dataframe tbody tr th:only-of-type {\n",
       "        vertical-align: middle;\n",
       "    }\n",
       "\n",
       "    .dataframe tbody tr th {\n",
       "        vertical-align: top;\n",
       "    }\n",
       "\n",
       "    .dataframe thead th {\n",
       "        text-align: right;\n",
       "    }\n",
       "</style>\n",
       "<table border=\"1\" class=\"dataframe\">\n",
       "  <thead>\n",
       "    <tr style=\"text-align: right;\">\n",
       "      <th></th>\n",
       "      <th>ID</th>\n",
       "      <th>NUMERO_VICTIMAS</th>\n",
       "      <th>FECHA</th>\n",
       "      <th>TIEMPO</th>\n",
       "      <th>HORA</th>\n",
       "      <th>LUGAR_DEL_HECHO</th>\n",
       "      <th>TIPO_DE_CALLE</th>\n",
       "      <th>CALLE</th>\n",
       "      <th>CRUCE</th>\n",
       "      <th>DIRECCION_NORMALIZADA</th>\n",
       "      <th>COMUNA</th>\n",
       "      <th>POS_X</th>\n",
       "      <th>POS_Y</th>\n",
       "      <th>PARTICIPANTES</th>\n",
       "      <th>VICTIMA</th>\n",
       "      <th>ACUSADO</th>\n",
       "    </tr>\n",
       "  </thead>\n",
       "  <tbody>\n",
       "    <tr>\n",
       "      <th>38</th>\n",
       "      <td>2016-0052</td>\n",
       "      <td>1</td>\n",
       "      <td>20/04/2016</td>\n",
       "      <td>20:00:00</td>\n",
       "      <td>20</td>\n",
       "      <td>AUTOPISTA LUGONES PK 10000</td>\n",
       "      <td>AUTOPISTA</td>\n",
       "      <td>LUGONES, LEOPOLDO AV.</td>\n",
       "      <td>NO</td>\n",
       "      <td>NaN</td>\n",
       "      <td>13</td>\n",
       "      <td>.</td>\n",
       "      <td>.</td>\n",
       "      <td>MOTO-SD</td>\n",
       "      <td>MOTO</td>\n",
       "      <td>SD</td>\n",
       "    </tr>\n",
       "    <tr>\n",
       "      <th>106</th>\n",
       "      <td>2016-0136</td>\n",
       "      <td>1</td>\n",
       "      <td>25/10/2016</td>\n",
       "      <td>00:00:00</td>\n",
       "      <td>0</td>\n",
       "      <td>AU BUENOS AIRES - LA PLATA KM. 4</td>\n",
       "      <td>AUTOPISTA</td>\n",
       "      <td>AUTOPISTA BUENOS AIRES - LA PLATA</td>\n",
       "      <td>NO</td>\n",
       "      <td>NaN</td>\n",
       "      <td>4</td>\n",
       "      <td>.</td>\n",
       "      <td>.</td>\n",
       "      <td>MOTO-CARGAS</td>\n",
       "      <td>MOTO</td>\n",
       "      <td>CARGAS</td>\n",
       "    </tr>\n",
       "    <tr>\n",
       "      <th>119</th>\n",
       "      <td>2016-0151</td>\n",
       "      <td>1</td>\n",
       "      <td>18/11/2016</td>\n",
       "      <td>20:35:00</td>\n",
       "      <td>20</td>\n",
       "      <td>SD</td>\n",
       "      <td>CALLE</td>\n",
       "      <td>SD</td>\n",
       "      <td>NO</td>\n",
       "      <td>NaN</td>\n",
       "      <td>0</td>\n",
       "      <td>.</td>\n",
       "      <td>.</td>\n",
       "      <td>PEATON-SD</td>\n",
       "      <td>PEATON</td>\n",
       "      <td>SD</td>\n",
       "    </tr>\n",
       "    <tr>\n",
       "      <th>180</th>\n",
       "      <td>2017-0050</td>\n",
       "      <td>2</td>\n",
       "      <td>28/04/2017</td>\n",
       "      <td>11:08:08</td>\n",
       "      <td>11</td>\n",
       "      <td>AU PERITO MORENO Y RAMAL ENLACE AU1/AU6</td>\n",
       "      <td>AUTOPISTA</td>\n",
       "      <td>AUTOPISTA PERITO MORENO</td>\n",
       "      <td>NO</td>\n",
       "      <td>NaN</td>\n",
       "      <td>9</td>\n",
       "      <td>.</td>\n",
       "      <td>.</td>\n",
       "      <td>MOTO-CARGAS</td>\n",
       "      <td>MOTO</td>\n",
       "      <td>CARGAS</td>\n",
       "    </tr>\n",
       "    <tr>\n",
       "      <th>181</th>\n",
       "      <td>2017-0051</td>\n",
       "      <td>1</td>\n",
       "      <td>01/05/2017</td>\n",
       "      <td>03:47:47</td>\n",
       "      <td>3</td>\n",
       "      <td>AU DELLEPIANE 2400</td>\n",
       "      <td>AUTOPISTA</td>\n",
       "      <td>AUTOPISTA DELLEPIANE LUIS TTE. GRAL.</td>\n",
       "      <td>NO</td>\n",
       "      <td>NaN</td>\n",
       "      <td>7</td>\n",
       "      <td>.</td>\n",
       "      <td>.</td>\n",
       "      <td>AUTO-AUTO</td>\n",
       "      <td>AUTO</td>\n",
       "      <td>AUTO</td>\n",
       "    </tr>\n",
       "    <tr>\n",
       "      <th>313</th>\n",
       "      <td>2018-0039</td>\n",
       "      <td>1</td>\n",
       "      <td>21/04/2018</td>\n",
       "      <td>22:15:00</td>\n",
       "      <td>22</td>\n",
       "      <td>AUTOPISTA LUGONES KM 4.7</td>\n",
       "      <td>AUTOPISTA</td>\n",
       "      <td>LUGONES, LEOPOLDO AV.</td>\n",
       "      <td>NO</td>\n",
       "      <td>NaN</td>\n",
       "      <td>14</td>\n",
       "      <td>.</td>\n",
       "      <td>.</td>\n",
       "      <td>PEATON-AUTO</td>\n",
       "      <td>PEATON</td>\n",
       "      <td>AUTO</td>\n",
       "    </tr>\n",
       "    <tr>\n",
       "      <th>546</th>\n",
       "      <td>2020-0026</td>\n",
       "      <td>1</td>\n",
       "      <td>17/05/2020</td>\n",
       "      <td>06:40:00</td>\n",
       "      <td>6</td>\n",
       "      <td>LUGONES, LEOPOLDO AV. KM 6,1</td>\n",
       "      <td>AUTOPISTA</td>\n",
       "      <td>LUGONES, LEOPOLDO AV.</td>\n",
       "      <td>NO</td>\n",
       "      <td>NaN</td>\n",
       "      <td>14</td>\n",
       "      <td>.</td>\n",
       "      <td>.</td>\n",
       "      <td>MOTO-OBJETO FIJO</td>\n",
       "      <td>MOTO</td>\n",
       "      <td>OBJETO FIJO</td>\n",
       "    </tr>\n",
       "    <tr>\n",
       "      <th>621</th>\n",
       "      <td>2021-0023</td>\n",
       "      <td>1</td>\n",
       "      <td>01/03/2021</td>\n",
       "      <td>09:20:00</td>\n",
       "      <td>9</td>\n",
       "      <td>AU BUENOS AIRES LA PLATA  KM 4,5</td>\n",
       "      <td>AUTOPISTA</td>\n",
       "      <td>AUTOPISTA BUENOS AIRES - LA PLATA</td>\n",
       "      <td>NO</td>\n",
       "      <td>NaN</td>\n",
       "      <td>4</td>\n",
       "      <td>.</td>\n",
       "      <td>.</td>\n",
       "      <td>MOTO-CARGAS</td>\n",
       "      <td>MOTO</td>\n",
       "      <td>CARGAS</td>\n",
       "    </tr>\n",
       "  </tbody>\n",
       "</table>\n",
       "</div>"
      ],
      "text/plain": [
       "            ID  NUMERO_VICTIMAS       FECHA    TIEMPO HORA  \\\n",
       "38   2016-0052                1  20/04/2016  20:00:00   20   \n",
       "106  2016-0136                1  25/10/2016  00:00:00    0   \n",
       "119  2016-0151                1  18/11/2016  20:35:00   20   \n",
       "180  2017-0050                2  28/04/2017  11:08:08   11   \n",
       "181  2017-0051                1  01/05/2017  03:47:47    3   \n",
       "313  2018-0039                1  21/04/2018  22:15:00   22   \n",
       "546  2020-0026                1  17/05/2020  06:40:00    6   \n",
       "621  2021-0023                1  01/03/2021  09:20:00    9   \n",
       "\n",
       "                             LUGAR_DEL_HECHO TIPO_DE_CALLE  \\\n",
       "38                AUTOPISTA LUGONES PK 10000     AUTOPISTA   \n",
       "106         AU BUENOS AIRES - LA PLATA KM. 4     AUTOPISTA   \n",
       "119                                       SD         CALLE   \n",
       "180  AU PERITO MORENO Y RAMAL ENLACE AU1/AU6     AUTOPISTA   \n",
       "181                       AU DELLEPIANE 2400     AUTOPISTA   \n",
       "313                 AUTOPISTA LUGONES KM 4.7     AUTOPISTA   \n",
       "546             LUGONES, LEOPOLDO AV. KM 6,1     AUTOPISTA   \n",
       "621         AU BUENOS AIRES LA PLATA  KM 4,5     AUTOPISTA   \n",
       "\n",
       "                                    CALLE CRUCE DIRECCION_NORMALIZADA  COMUNA  \\\n",
       "38                  LUGONES, LEOPOLDO AV.    NO                   NaN      13   \n",
       "106     AUTOPISTA BUENOS AIRES - LA PLATA    NO                   NaN       4   \n",
       "119                                    SD    NO                   NaN       0   \n",
       "180               AUTOPISTA PERITO MORENO    NO                   NaN       9   \n",
       "181  AUTOPISTA DELLEPIANE LUIS TTE. GRAL.    NO                   NaN       7   \n",
       "313                 LUGONES, LEOPOLDO AV.    NO                   NaN      14   \n",
       "546                 LUGONES, LEOPOLDO AV.    NO                   NaN      14   \n",
       "621     AUTOPISTA BUENOS AIRES - LA PLATA    NO                   NaN       4   \n",
       "\n",
       "    POS_X POS_Y     PARTICIPANTES VICTIMA      ACUSADO  \n",
       "38      .     .           MOTO-SD    MOTO           SD  \n",
       "106     .     .       MOTO-CARGAS    MOTO       CARGAS  \n",
       "119     .     .         PEATON-SD  PEATON           SD  \n",
       "180     .     .       MOTO-CARGAS    MOTO       CARGAS  \n",
       "181     .     .         AUTO-AUTO    AUTO         AUTO  \n",
       "313     .     .       PEATON-AUTO  PEATON         AUTO  \n",
       "546     .     .  MOTO-OBJETO FIJO    MOTO  OBJETO FIJO  \n",
       "621     .     .       MOTO-CARGAS    MOTO       CARGAS  "
      ]
     },
     "execution_count": 13,
     "metadata": {},
     "output_type": "execute_result"
    }
   ],
   "source": [
    "df_hechos[df_hechos[\"DIRECCION_NORMALIZADA\"].isna()]"
   ]
  },
  {
   "cell_type": "markdown",
   "metadata": {},
   "source": [
    "Reemplazare estos NaN's por 'SD' (Sin Dato), ya que no poseo más información. "
   ]
  },
  {
   "cell_type": "code",
   "execution_count": 14,
   "metadata": {},
   "outputs": [
    {
     "data": {
      "text/html": [
       "<div>\n",
       "<style scoped>\n",
       "    .dataframe tbody tr th:only-of-type {\n",
       "        vertical-align: middle;\n",
       "    }\n",
       "\n",
       "    .dataframe tbody tr th {\n",
       "        vertical-align: top;\n",
       "    }\n",
       "\n",
       "    .dataframe thead th {\n",
       "        text-align: right;\n",
       "    }\n",
       "</style>\n",
       "<table border=\"1\" class=\"dataframe\">\n",
       "  <thead>\n",
       "    <tr style=\"text-align: right;\">\n",
       "      <th></th>\n",
       "      <th>ID</th>\n",
       "      <th>NUMERO_VICTIMAS</th>\n",
       "      <th>FECHA</th>\n",
       "      <th>TIEMPO</th>\n",
       "      <th>HORA</th>\n",
       "      <th>LUGAR_DEL_HECHO</th>\n",
       "      <th>TIPO_DE_CALLE</th>\n",
       "      <th>CALLE</th>\n",
       "      <th>CRUCE</th>\n",
       "      <th>DIRECCION_NORMALIZADA</th>\n",
       "      <th>COMUNA</th>\n",
       "      <th>POS_X</th>\n",
       "      <th>POS_Y</th>\n",
       "      <th>PARTICIPANTES</th>\n",
       "      <th>VICTIMA</th>\n",
       "      <th>ACUSADO</th>\n",
       "    </tr>\n",
       "  </thead>\n",
       "  <tbody>\n",
       "    <tr>\n",
       "      <th>38</th>\n",
       "      <td>2016-0052</td>\n",
       "      <td>1</td>\n",
       "      <td>20/04/2016</td>\n",
       "      <td>20:00:00</td>\n",
       "      <td>20</td>\n",
       "      <td>AUTOPISTA LUGONES PK 10000</td>\n",
       "      <td>AUTOPISTA</td>\n",
       "      <td>LUGONES, LEOPOLDO AV.</td>\n",
       "      <td>NO</td>\n",
       "      <td>SD</td>\n",
       "      <td>13</td>\n",
       "      <td>.</td>\n",
       "      <td>.</td>\n",
       "      <td>MOTO-SD</td>\n",
       "      <td>MOTO</td>\n",
       "      <td>SD</td>\n",
       "    </tr>\n",
       "    <tr>\n",
       "      <th>106</th>\n",
       "      <td>2016-0136</td>\n",
       "      <td>1</td>\n",
       "      <td>25/10/2016</td>\n",
       "      <td>00:00:00</td>\n",
       "      <td>0</td>\n",
       "      <td>AU BUENOS AIRES - LA PLATA KM. 4</td>\n",
       "      <td>AUTOPISTA</td>\n",
       "      <td>AUTOPISTA BUENOS AIRES - LA PLATA</td>\n",
       "      <td>NO</td>\n",
       "      <td>SD</td>\n",
       "      <td>4</td>\n",
       "      <td>.</td>\n",
       "      <td>.</td>\n",
       "      <td>MOTO-CARGAS</td>\n",
       "      <td>MOTO</td>\n",
       "      <td>CARGAS</td>\n",
       "    </tr>\n",
       "    <tr>\n",
       "      <th>119</th>\n",
       "      <td>2016-0151</td>\n",
       "      <td>1</td>\n",
       "      <td>18/11/2016</td>\n",
       "      <td>20:35:00</td>\n",
       "      <td>20</td>\n",
       "      <td>SD</td>\n",
       "      <td>CALLE</td>\n",
       "      <td>SD</td>\n",
       "      <td>NO</td>\n",
       "      <td>SD</td>\n",
       "      <td>0</td>\n",
       "      <td>.</td>\n",
       "      <td>.</td>\n",
       "      <td>PEATON-SD</td>\n",
       "      <td>PEATON</td>\n",
       "      <td>SD</td>\n",
       "    </tr>\n",
       "    <tr>\n",
       "      <th>180</th>\n",
       "      <td>2017-0050</td>\n",
       "      <td>2</td>\n",
       "      <td>28/04/2017</td>\n",
       "      <td>11:08:08</td>\n",
       "      <td>11</td>\n",
       "      <td>AU PERITO MORENO Y RAMAL ENLACE AU1/AU6</td>\n",
       "      <td>AUTOPISTA</td>\n",
       "      <td>AUTOPISTA PERITO MORENO</td>\n",
       "      <td>NO</td>\n",
       "      <td>SD</td>\n",
       "      <td>9</td>\n",
       "      <td>.</td>\n",
       "      <td>.</td>\n",
       "      <td>MOTO-CARGAS</td>\n",
       "      <td>MOTO</td>\n",
       "      <td>CARGAS</td>\n",
       "    </tr>\n",
       "    <tr>\n",
       "      <th>181</th>\n",
       "      <td>2017-0051</td>\n",
       "      <td>1</td>\n",
       "      <td>01/05/2017</td>\n",
       "      <td>03:47:47</td>\n",
       "      <td>3</td>\n",
       "      <td>AU DELLEPIANE 2400</td>\n",
       "      <td>AUTOPISTA</td>\n",
       "      <td>AUTOPISTA DELLEPIANE LUIS TTE. GRAL.</td>\n",
       "      <td>NO</td>\n",
       "      <td>SD</td>\n",
       "      <td>7</td>\n",
       "      <td>.</td>\n",
       "      <td>.</td>\n",
       "      <td>AUTO-AUTO</td>\n",
       "      <td>AUTO</td>\n",
       "      <td>AUTO</td>\n",
       "    </tr>\n",
       "    <tr>\n",
       "      <th>313</th>\n",
       "      <td>2018-0039</td>\n",
       "      <td>1</td>\n",
       "      <td>21/04/2018</td>\n",
       "      <td>22:15:00</td>\n",
       "      <td>22</td>\n",
       "      <td>AUTOPISTA LUGONES KM 4.7</td>\n",
       "      <td>AUTOPISTA</td>\n",
       "      <td>LUGONES, LEOPOLDO AV.</td>\n",
       "      <td>NO</td>\n",
       "      <td>SD</td>\n",
       "      <td>14</td>\n",
       "      <td>.</td>\n",
       "      <td>.</td>\n",
       "      <td>PEATON-AUTO</td>\n",
       "      <td>PEATON</td>\n",
       "      <td>AUTO</td>\n",
       "    </tr>\n",
       "    <tr>\n",
       "      <th>546</th>\n",
       "      <td>2020-0026</td>\n",
       "      <td>1</td>\n",
       "      <td>17/05/2020</td>\n",
       "      <td>06:40:00</td>\n",
       "      <td>6</td>\n",
       "      <td>LUGONES, LEOPOLDO AV. KM 6,1</td>\n",
       "      <td>AUTOPISTA</td>\n",
       "      <td>LUGONES, LEOPOLDO AV.</td>\n",
       "      <td>NO</td>\n",
       "      <td>SD</td>\n",
       "      <td>14</td>\n",
       "      <td>.</td>\n",
       "      <td>.</td>\n",
       "      <td>MOTO-OBJETO FIJO</td>\n",
       "      <td>MOTO</td>\n",
       "      <td>OBJETO FIJO</td>\n",
       "    </tr>\n",
       "    <tr>\n",
       "      <th>621</th>\n",
       "      <td>2021-0023</td>\n",
       "      <td>1</td>\n",
       "      <td>01/03/2021</td>\n",
       "      <td>09:20:00</td>\n",
       "      <td>9</td>\n",
       "      <td>AU BUENOS AIRES LA PLATA  KM 4,5</td>\n",
       "      <td>AUTOPISTA</td>\n",
       "      <td>AUTOPISTA BUENOS AIRES - LA PLATA</td>\n",
       "      <td>NO</td>\n",
       "      <td>SD</td>\n",
       "      <td>4</td>\n",
       "      <td>.</td>\n",
       "      <td>.</td>\n",
       "      <td>MOTO-CARGAS</td>\n",
       "      <td>MOTO</td>\n",
       "      <td>CARGAS</td>\n",
       "    </tr>\n",
       "  </tbody>\n",
       "</table>\n",
       "</div>"
      ],
      "text/plain": [
       "            ID  NUMERO_VICTIMAS       FECHA    TIEMPO HORA  \\\n",
       "38   2016-0052                1  20/04/2016  20:00:00   20   \n",
       "106  2016-0136                1  25/10/2016  00:00:00    0   \n",
       "119  2016-0151                1  18/11/2016  20:35:00   20   \n",
       "180  2017-0050                2  28/04/2017  11:08:08   11   \n",
       "181  2017-0051                1  01/05/2017  03:47:47    3   \n",
       "313  2018-0039                1  21/04/2018  22:15:00   22   \n",
       "546  2020-0026                1  17/05/2020  06:40:00    6   \n",
       "621  2021-0023                1  01/03/2021  09:20:00    9   \n",
       "\n",
       "                             LUGAR_DEL_HECHO TIPO_DE_CALLE  \\\n",
       "38                AUTOPISTA LUGONES PK 10000     AUTOPISTA   \n",
       "106         AU BUENOS AIRES - LA PLATA KM. 4     AUTOPISTA   \n",
       "119                                       SD         CALLE   \n",
       "180  AU PERITO MORENO Y RAMAL ENLACE AU1/AU6     AUTOPISTA   \n",
       "181                       AU DELLEPIANE 2400     AUTOPISTA   \n",
       "313                 AUTOPISTA LUGONES KM 4.7     AUTOPISTA   \n",
       "546             LUGONES, LEOPOLDO AV. KM 6,1     AUTOPISTA   \n",
       "621         AU BUENOS AIRES LA PLATA  KM 4,5     AUTOPISTA   \n",
       "\n",
       "                                    CALLE CRUCE DIRECCION_NORMALIZADA  COMUNA  \\\n",
       "38                  LUGONES, LEOPOLDO AV.    NO                    SD      13   \n",
       "106     AUTOPISTA BUENOS AIRES - LA PLATA    NO                    SD       4   \n",
       "119                                    SD    NO                    SD       0   \n",
       "180               AUTOPISTA PERITO MORENO    NO                    SD       9   \n",
       "181  AUTOPISTA DELLEPIANE LUIS TTE. GRAL.    NO                    SD       7   \n",
       "313                 LUGONES, LEOPOLDO AV.    NO                    SD      14   \n",
       "546                 LUGONES, LEOPOLDO AV.    NO                    SD      14   \n",
       "621     AUTOPISTA BUENOS AIRES - LA PLATA    NO                    SD       4   \n",
       "\n",
       "    POS_X POS_Y     PARTICIPANTES VICTIMA      ACUSADO  \n",
       "38      .     .           MOTO-SD    MOTO           SD  \n",
       "106     .     .       MOTO-CARGAS    MOTO       CARGAS  \n",
       "119     .     .         PEATON-SD  PEATON           SD  \n",
       "180     .     .       MOTO-CARGAS    MOTO       CARGAS  \n",
       "181     .     .         AUTO-AUTO    AUTO         AUTO  \n",
       "313     .     .       PEATON-AUTO  PEATON         AUTO  \n",
       "546     .     .  MOTO-OBJETO FIJO    MOTO  OBJETO FIJO  \n",
       "621     .     .       MOTO-CARGAS    MOTO       CARGAS  "
      ]
     },
     "execution_count": 14,
     "metadata": {},
     "output_type": "execute_result"
    }
   ],
   "source": [
    "df_hechos[\"DIRECCION_NORMALIZADA\"].fillna(\"SD\", inplace=True)\n",
    "\n",
    "# Vemos el resultado:\n",
    "df_hechos[df_hechos[\"DIRECCION_NORMALIZADA\"] == \"SD\"]"
   ]
  },
  {
   "cell_type": "markdown",
   "metadata": {},
   "source": [
    "#### **Tratamiento de datos duplicados**\n",
    "\n",
    "No observo datos duplicados:"
   ]
  },
  {
   "cell_type": "code",
   "execution_count": 15,
   "metadata": {},
   "outputs": [
    {
     "data": {
      "text/plain": [
       "696"
      ]
     },
     "execution_count": 15,
     "metadata": {},
     "output_type": "execute_result"
    }
   ],
   "source": [
    "len(df_hechos[\"ID\"].unique())"
   ]
  },
  {
   "cell_type": "markdown",
   "metadata": {},
   "source": [
    "**Verificación de Tipos de Varibles.**    \n",
    "  \n",
    "En nuestro diccionario de datos hay varibles/columnas que tienen valores predefinidos y explicados.  \n",
    "- TIPO_DE_CALLE\n",
    "- PARTICIPANTES\n",
    "- VICTIMA\n",
    "- ACUSADO\n",
    "\n",
    "Veremos si estos concuerdan con lo que tenemos en el diccionario"
   ]
  },
  {
   "cell_type": "markdown",
   "metadata": {},
   "source": [
    "TIPO_DE_CALLE:"
   ]
  },
  {
   "cell_type": "code",
   "execution_count": 16,
   "metadata": {},
   "outputs": [
    {
     "data": {
      "text/plain": [
       "array(['AVENIDA', 'GRAL PAZ', 'CALLE', 'AUTOPISTA'], dtype=object)"
      ]
     },
     "execution_count": 16,
     "metadata": {},
     "output_type": "execute_result"
    }
   ],
   "source": [
    "df_hechos[\"TIPO_DE_CALLE\"].unique()"
   ]
  },
  {
   "cell_type": "markdown",
   "metadata": {},
   "source": [
    "PARTICIPANTES:  \n",
    "(Parece que en verdad es 'multiple')"
   ]
  },
  {
   "cell_type": "code",
   "execution_count": 17,
   "metadata": {},
   "outputs": [
    {
     "data": {
      "text/plain": [
       "array(['MOTO-AUTO', 'AUTO-PASAJEROS', 'MOTO-SD', 'MOTO-PASAJEROS',\n",
       "       'MOTO-OBJETO FIJO', 'MOTO-CARGAS', 'PEATON-AUTO', 'PEATON-MOTO',\n",
       "       'PEATON-PASAJEROS', 'AUTO-AUTO', 'AUTO-OBJETO FIJO',\n",
       "       'PEATON-CARGAS', 'MOTO-MOTO', 'MULTIPLE', 'SD-SD', 'AUTO-CARGAS',\n",
       "       'AUTO-SD', 'MOTO-MOVIL', 'CARGAS-CARGAS', 'PEATON-SD',\n",
       "       'BICICLETA-CARGAS', 'SD-CARGAS', 'BICICLETA-PASAJEROS',\n",
       "       'PASAJEROS-PASAJEROS', 'MOVIL-PASAJEROS', 'CARGAS-OBJETO FIJO',\n",
       "       'PEATON-BICICLETA', 'SD-AUTO', 'CARGAS-AUTO', 'BICICLETA-AUTO',\n",
       "       'MOTO-BICICLETA', 'SD-MOTO', 'MOVIL-CARGAS', 'PASAJEROS-AUTO',\n",
       "       'AUTO-MOVIL', 'CARGAS-PASAJEROS', 'BICICLETA-TREN',\n",
       "       'BICICLETA-OTRO', 'MOTO-OTRO', 'PEATON_MOTO-MOTO', 'PASAJEROS-SD'],\n",
       "      dtype=object)"
      ]
     },
     "execution_count": 17,
     "metadata": {},
     "output_type": "execute_result"
    }
   ],
   "source": [
    "df_hechos[\"PARTICIPANTES\"].unique()"
   ]
  },
  {
   "cell_type": "markdown",
   "metadata": {},
   "source": [
    "VICTIMA:  \n",
    "Los datos 'OBJETO FIJO', 'PEATON_MOTO' no se encuentran en nuestro diccionario de datos, por lo tanto reemplazaremos esos valores por 'OTRO'"
   ]
  },
  {
   "cell_type": "code",
   "execution_count": 18,
   "metadata": {},
   "outputs": [
    {
     "data": {
      "text/plain": [
       "array(['MOTO', 'AUTO', 'PEATON', 'SD', 'CARGAS', 'BICICLETA', 'PASAJEROS',\n",
       "       'MOVIL', 'OBJETO FIJO', 'PEATON_MOTO'], dtype=object)"
      ]
     },
     "execution_count": 18,
     "metadata": {},
     "output_type": "execute_result"
    }
   ],
   "source": [
    "df_hechos[\"VICTIMA\"].unique()"
   ]
  },
  {
   "cell_type": "code",
   "execution_count": 19,
   "metadata": {},
   "outputs": [
    {
     "data": {
      "text/html": [
       "<div>\n",
       "<style scoped>\n",
       "    .dataframe tbody tr th:only-of-type {\n",
       "        vertical-align: middle;\n",
       "    }\n",
       "\n",
       "    .dataframe tbody tr th {\n",
       "        vertical-align: top;\n",
       "    }\n",
       "\n",
       "    .dataframe thead th {\n",
       "        text-align: right;\n",
       "    }\n",
       "</style>\n",
       "<table border=\"1\" class=\"dataframe\">\n",
       "  <thead>\n",
       "    <tr style=\"text-align: right;\">\n",
       "      <th></th>\n",
       "      <th>ID</th>\n",
       "      <th>NUMERO_VICTIMAS</th>\n",
       "      <th>FECHA</th>\n",
       "      <th>TIEMPO</th>\n",
       "      <th>HORA</th>\n",
       "      <th>LUGAR_DEL_HECHO</th>\n",
       "      <th>TIPO_DE_CALLE</th>\n",
       "      <th>CALLE</th>\n",
       "      <th>CRUCE</th>\n",
       "      <th>DIRECCION_NORMALIZADA</th>\n",
       "      <th>COMUNA</th>\n",
       "      <th>POS_X</th>\n",
       "      <th>POS_Y</th>\n",
       "      <th>PARTICIPANTES</th>\n",
       "      <th>VICTIMA</th>\n",
       "      <th>ACUSADO</th>\n",
       "    </tr>\n",
       "  </thead>\n",
       "  <tbody>\n",
       "    <tr>\n",
       "      <th>230</th>\n",
       "      <td>2017-0108</td>\n",
       "      <td>2</td>\n",
       "      <td>02/09/2017</td>\n",
       "      <td>04:53:08</td>\n",
       "      <td>4</td>\n",
       "      <td>AV. GRAL. PAZ Y MACHAIN</td>\n",
       "      <td>GRAL PAZ</td>\n",
       "      <td>PAZ, GRAL. AV.</td>\n",
       "      <td>SI</td>\n",
       "      <td>PAZ, GRAL. AV. y MACHAIN</td>\n",
       "      <td>12</td>\n",
       "      <td>-58.49491054</td>\n",
       "      <td>-34.54795581</td>\n",
       "      <td>AUTO-OBJETO FIJO</td>\n",
       "      <td>OBJETO FIJO</td>\n",
       "      <td>AUTO</td>\n",
       "    </tr>\n",
       "    <tr>\n",
       "      <th>583</th>\n",
       "      <td>2020-0063</td>\n",
       "      <td>2</td>\n",
       "      <td>05/12/2020</td>\n",
       "      <td>07:10:00</td>\n",
       "      <td>7</td>\n",
       "      <td>NUEVA YORK Y ALTA GRACIA</td>\n",
       "      <td>CALLE</td>\n",
       "      <td>NUEVA YORK</td>\n",
       "      <td>SI</td>\n",
       "      <td>NUEVA YORK y ALTA GRACIA</td>\n",
       "      <td>11</td>\n",
       "      <td>-58.52783814</td>\n",
       "      <td>-34.61047001</td>\n",
       "      <td>PEATON_MOTO-MOTO</td>\n",
       "      <td>PEATON_MOTO</td>\n",
       "      <td>MOTO</td>\n",
       "    </tr>\n",
       "  </tbody>\n",
       "</table>\n",
       "</div>"
      ],
      "text/plain": [
       "            ID  NUMERO_VICTIMAS       FECHA    TIEMPO HORA  \\\n",
       "230  2017-0108                2  02/09/2017  04:53:08    4   \n",
       "583  2020-0063                2  05/12/2020  07:10:00    7   \n",
       "\n",
       "              LUGAR_DEL_HECHO TIPO_DE_CALLE           CALLE CRUCE  \\\n",
       "230   AV. GRAL. PAZ Y MACHAIN      GRAL PAZ  PAZ, GRAL. AV.    SI   \n",
       "583  NUEVA YORK Y ALTA GRACIA         CALLE      NUEVA YORK    SI   \n",
       "\n",
       "        DIRECCION_NORMALIZADA  COMUNA         POS_X         POS_Y  \\\n",
       "230  PAZ, GRAL. AV. y MACHAIN      12  -58.49491054  -34.54795581   \n",
       "583  NUEVA YORK y ALTA GRACIA      11  -58.52783814  -34.61047001   \n",
       "\n",
       "        PARTICIPANTES      VICTIMA ACUSADO  \n",
       "230  AUTO-OBJETO FIJO  OBJETO FIJO    AUTO  \n",
       "583  PEATON_MOTO-MOTO  PEATON_MOTO    MOTO  "
      ]
     },
     "execution_count": 19,
     "metadata": {},
     "output_type": "execute_result"
    }
   ],
   "source": [
    "df_hechos[df_hechos[\"VICTIMA\"].isin(['OBJETO FIJO', 'PEATON_MOTO'])]"
   ]
  },
  {
   "cell_type": "code",
   "execution_count": 20,
   "metadata": {},
   "outputs": [
    {
     "data": {
      "text/html": [
       "<div>\n",
       "<style scoped>\n",
       "    .dataframe tbody tr th:only-of-type {\n",
       "        vertical-align: middle;\n",
       "    }\n",
       "\n",
       "    .dataframe tbody tr th {\n",
       "        vertical-align: top;\n",
       "    }\n",
       "\n",
       "    .dataframe thead th {\n",
       "        text-align: right;\n",
       "    }\n",
       "</style>\n",
       "<table border=\"1\" class=\"dataframe\">\n",
       "  <thead>\n",
       "    <tr style=\"text-align: right;\">\n",
       "      <th></th>\n",
       "      <th>ID</th>\n",
       "      <th>NUMERO_VICTIMAS</th>\n",
       "      <th>FECHA</th>\n",
       "      <th>TIEMPO</th>\n",
       "      <th>HORA</th>\n",
       "      <th>LUGAR_DEL_HECHO</th>\n",
       "      <th>TIPO_DE_CALLE</th>\n",
       "      <th>CALLE</th>\n",
       "      <th>CRUCE</th>\n",
       "      <th>DIRECCION_NORMALIZADA</th>\n",
       "      <th>COMUNA</th>\n",
       "      <th>POS_X</th>\n",
       "      <th>POS_Y</th>\n",
       "      <th>PARTICIPANTES</th>\n",
       "      <th>VICTIMA</th>\n",
       "      <th>ACUSADO</th>\n",
       "    </tr>\n",
       "  </thead>\n",
       "  <tbody>\n",
       "    <tr>\n",
       "      <th>230</th>\n",
       "      <td>2017-0108</td>\n",
       "      <td>2</td>\n",
       "      <td>02/09/2017</td>\n",
       "      <td>04:53:08</td>\n",
       "      <td>4</td>\n",
       "      <td>AV. GRAL. PAZ Y MACHAIN</td>\n",
       "      <td>GRAL PAZ</td>\n",
       "      <td>PAZ, GRAL. AV.</td>\n",
       "      <td>SI</td>\n",
       "      <td>PAZ, GRAL. AV. y MACHAIN</td>\n",
       "      <td>12</td>\n",
       "      <td>-58.49491054</td>\n",
       "      <td>-34.54795581</td>\n",
       "      <td>AUTO-OBJETO FIJO</td>\n",
       "      <td>OTRO</td>\n",
       "      <td>AUTO</td>\n",
       "    </tr>\n",
       "    <tr>\n",
       "      <th>583</th>\n",
       "      <td>2020-0063</td>\n",
       "      <td>2</td>\n",
       "      <td>05/12/2020</td>\n",
       "      <td>07:10:00</td>\n",
       "      <td>7</td>\n",
       "      <td>NUEVA YORK Y ALTA GRACIA</td>\n",
       "      <td>CALLE</td>\n",
       "      <td>NUEVA YORK</td>\n",
       "      <td>SI</td>\n",
       "      <td>NUEVA YORK y ALTA GRACIA</td>\n",
       "      <td>11</td>\n",
       "      <td>-58.52783814</td>\n",
       "      <td>-34.61047001</td>\n",
       "      <td>PEATON_MOTO-MOTO</td>\n",
       "      <td>OTRO</td>\n",
       "      <td>MOTO</td>\n",
       "    </tr>\n",
       "  </tbody>\n",
       "</table>\n",
       "</div>"
      ],
      "text/plain": [
       "            ID  NUMERO_VICTIMAS       FECHA    TIEMPO HORA  \\\n",
       "230  2017-0108                2  02/09/2017  04:53:08    4   \n",
       "583  2020-0063                2  05/12/2020  07:10:00    7   \n",
       "\n",
       "              LUGAR_DEL_HECHO TIPO_DE_CALLE           CALLE CRUCE  \\\n",
       "230   AV. GRAL. PAZ Y MACHAIN      GRAL PAZ  PAZ, GRAL. AV.    SI   \n",
       "583  NUEVA YORK Y ALTA GRACIA         CALLE      NUEVA YORK    SI   \n",
       "\n",
       "        DIRECCION_NORMALIZADA  COMUNA         POS_X         POS_Y  \\\n",
       "230  PAZ, GRAL. AV. y MACHAIN      12  -58.49491054  -34.54795581   \n",
       "583  NUEVA YORK y ALTA GRACIA      11  -58.52783814  -34.61047001   \n",
       "\n",
       "        PARTICIPANTES VICTIMA ACUSADO  \n",
       "230  AUTO-OBJETO FIJO    OTRO    AUTO  \n",
       "583  PEATON_MOTO-MOTO    OTRO    MOTO  "
      ]
     },
     "execution_count": 20,
     "metadata": {},
     "output_type": "execute_result"
    }
   ],
   "source": [
    "# Reemplazamos y visualizamos:\n",
    "df_hechos['VICTIMA']= df_hechos['VICTIMA'].replace({'OBJETO FIJO':'OTRO', 'PEATON_MOTO':'OTRO'})\n",
    "\n",
    "df_hechos[df_hechos['ID'].isin(['2017-0108','2020-0063'])]"
   ]
  },
  {
   "cell_type": "markdown",
   "metadata": {},
   "source": [
    "ACUSADO:  \n",
    "Aunque multiple no se encuentra en el diccionario, como también este valor se encuentra en los participantes lo dejaremos asi."
   ]
  },
  {
   "cell_type": "code",
   "execution_count": 21,
   "metadata": {},
   "outputs": [
    {
     "data": {
      "text/plain": [
       "array(['AUTO', 'PASAJEROS', 'SD', 'OBJETO FIJO', 'CARGAS', 'MOTO',\n",
       "       'MULTIPLE', 'OTRO', 'BICICLETA', 'TREN'], dtype=object)"
      ]
     },
     "execution_count": 21,
     "metadata": {},
     "output_type": "execute_result"
    }
   ],
   "source": [
    "df_hechos[\"ACUSADO\"].unique()"
   ]
  },
  {
   "cell_type": "code",
   "execution_count": 22,
   "metadata": {},
   "outputs": [
    {
     "data": {
      "text/html": [
       "<div>\n",
       "<style scoped>\n",
       "    .dataframe tbody tr th:only-of-type {\n",
       "        vertical-align: middle;\n",
       "    }\n",
       "\n",
       "    .dataframe tbody tr th {\n",
       "        vertical-align: top;\n",
       "    }\n",
       "\n",
       "    .dataframe thead th {\n",
       "        text-align: right;\n",
       "    }\n",
       "</style>\n",
       "<table border=\"1\" class=\"dataframe\">\n",
       "  <thead>\n",
       "    <tr style=\"text-align: right;\">\n",
       "      <th></th>\n",
       "      <th>ID</th>\n",
       "      <th>PARTICIPANTES</th>\n",
       "      <th>VICTIMA</th>\n",
       "      <th>ACUSADO</th>\n",
       "    </tr>\n",
       "  </thead>\n",
       "  <tbody>\n",
       "    <tr>\n",
       "      <th>31</th>\n",
       "      <td>2016-0044</td>\n",
       "      <td>MULTIPLE</td>\n",
       "      <td>MOTO</td>\n",
       "      <td>MULTIPLE</td>\n",
       "    </tr>\n",
       "    <tr>\n",
       "      <th>143</th>\n",
       "      <td>2016-0178</td>\n",
       "      <td>MULTIPLE</td>\n",
       "      <td>PEATON</td>\n",
       "      <td>MULTIPLE</td>\n",
       "    </tr>\n",
       "    <tr>\n",
       "      <th>146</th>\n",
       "      <td>2017-0007</td>\n",
       "      <td>MULTIPLE</td>\n",
       "      <td>PEATON</td>\n",
       "      <td>MULTIPLE</td>\n",
       "    </tr>\n",
       "    <tr>\n",
       "      <th>153</th>\n",
       "      <td>2017-0014</td>\n",
       "      <td>MULTIPLE</td>\n",
       "      <td>MOTO</td>\n",
       "      <td>MULTIPLE</td>\n",
       "    </tr>\n",
       "    <tr>\n",
       "      <th>174</th>\n",
       "      <td>2017-0040</td>\n",
       "      <td>MULTIPLE</td>\n",
       "      <td>AUTO</td>\n",
       "      <td>MULTIPLE</td>\n",
       "    </tr>\n",
       "    <tr>\n",
       "      <th>225</th>\n",
       "      <td>2017-0101</td>\n",
       "      <td>MULTIPLE</td>\n",
       "      <td>PEATON</td>\n",
       "      <td>MULTIPLE</td>\n",
       "    </tr>\n",
       "    <tr>\n",
       "      <th>277</th>\n",
       "      <td>2018-0003</td>\n",
       "      <td>MULTIPLE</td>\n",
       "      <td>PEATON</td>\n",
       "      <td>MULTIPLE</td>\n",
       "    </tr>\n",
       "    <tr>\n",
       "      <th>278</th>\n",
       "      <td>2018-0004</td>\n",
       "      <td>MULTIPLE</td>\n",
       "      <td>MOTO</td>\n",
       "      <td>MULTIPLE</td>\n",
       "    </tr>\n",
       "    <tr>\n",
       "      <th>355</th>\n",
       "      <td>2018-0081</td>\n",
       "      <td>MULTIPLE</td>\n",
       "      <td>PEATON</td>\n",
       "      <td>MULTIPLE</td>\n",
       "    </tr>\n",
       "    <tr>\n",
       "      <th>375</th>\n",
       "      <td>2018-0101</td>\n",
       "      <td>MULTIPLE</td>\n",
       "      <td>AUTO</td>\n",
       "      <td>MULTIPLE</td>\n",
       "    </tr>\n",
       "    <tr>\n",
       "      <th>425</th>\n",
       "      <td>2019-0008</td>\n",
       "      <td>MULTIPLE</td>\n",
       "      <td>MOTO</td>\n",
       "      <td>MULTIPLE</td>\n",
       "    </tr>\n",
       "    <tr>\n",
       "      <th>444</th>\n",
       "      <td>2019-0027</td>\n",
       "      <td>MULTIPLE</td>\n",
       "      <td>BICICLETA</td>\n",
       "      <td>MULTIPLE</td>\n",
       "    </tr>\n",
       "    <tr>\n",
       "      <th>458</th>\n",
       "      <td>2019-0041</td>\n",
       "      <td>MULTIPLE</td>\n",
       "      <td>AUTO</td>\n",
       "      <td>MULTIPLE</td>\n",
       "    </tr>\n",
       "    <tr>\n",
       "      <th>513</th>\n",
       "      <td>2019-0097</td>\n",
       "      <td>MULTIPLE</td>\n",
       "      <td>MOTO</td>\n",
       "      <td>MULTIPLE</td>\n",
       "    </tr>\n",
       "    <tr>\n",
       "      <th>550</th>\n",
       "      <td>2020-0030</td>\n",
       "      <td>MULTIPLE</td>\n",
       "      <td>MOTO</td>\n",
       "      <td>MULTIPLE</td>\n",
       "    </tr>\n",
       "    <tr>\n",
       "      <th>643</th>\n",
       "      <td>2021-0045</td>\n",
       "      <td>MULTIPLE</td>\n",
       "      <td>MOTO</td>\n",
       "      <td>MULTIPLE</td>\n",
       "    </tr>\n",
       "    <tr>\n",
       "      <th>672</th>\n",
       "      <td>2021-0074</td>\n",
       "      <td>MULTIPLE</td>\n",
       "      <td>MOTO</td>\n",
       "      <td>MULTIPLE</td>\n",
       "    </tr>\n",
       "  </tbody>\n",
       "</table>\n",
       "</div>"
      ],
      "text/plain": [
       "            ID PARTICIPANTES    VICTIMA   ACUSADO\n",
       "31   2016-0044      MULTIPLE       MOTO  MULTIPLE\n",
       "143  2016-0178      MULTIPLE     PEATON  MULTIPLE\n",
       "146  2017-0007      MULTIPLE     PEATON  MULTIPLE\n",
       "153  2017-0014      MULTIPLE       MOTO  MULTIPLE\n",
       "174  2017-0040      MULTIPLE       AUTO  MULTIPLE\n",
       "225  2017-0101      MULTIPLE     PEATON  MULTIPLE\n",
       "277  2018-0003      MULTIPLE     PEATON  MULTIPLE\n",
       "278  2018-0004      MULTIPLE       MOTO  MULTIPLE\n",
       "355  2018-0081      MULTIPLE     PEATON  MULTIPLE\n",
       "375  2018-0101      MULTIPLE       AUTO  MULTIPLE\n",
       "425  2019-0008      MULTIPLE       MOTO  MULTIPLE\n",
       "444  2019-0027      MULTIPLE  BICICLETA  MULTIPLE\n",
       "458  2019-0041      MULTIPLE       AUTO  MULTIPLE\n",
       "513  2019-0097      MULTIPLE       MOTO  MULTIPLE\n",
       "550  2020-0030      MULTIPLE       MOTO  MULTIPLE\n",
       "643  2021-0045      MULTIPLE       MOTO  MULTIPLE\n",
       "672  2021-0074      MULTIPLE       MOTO  MULTIPLE"
      ]
     },
     "execution_count": 22,
     "metadata": {},
     "output_type": "execute_result"
    }
   ],
   "source": [
    "df_hechos[df_hechos[\"ACUSADO\"] == \"MULTIPLE\"][[\"ID\",\"PARTICIPANTES\",\t\"VICTIMA\", \"ACUSADO\"]]"
   ]
  },
  {
   "cell_type": "markdown",
   "metadata": {},
   "source": [
    "**También verificaremos las columnas de posición geográfica: 'POS_X' y 'POS_Y'**"
   ]
  },
  {
   "cell_type": "code",
   "execution_count": 23,
   "metadata": {},
   "outputs": [
    {
     "data": {
      "text/html": [
       "<div>\n",
       "<style scoped>\n",
       "    .dataframe tbody tr th:only-of-type {\n",
       "        vertical-align: middle;\n",
       "    }\n",
       "\n",
       "    .dataframe tbody tr th {\n",
       "        vertical-align: top;\n",
       "    }\n",
       "\n",
       "    .dataframe thead th {\n",
       "        text-align: right;\n",
       "    }\n",
       "</style>\n",
       "<table border=\"1\" class=\"dataframe\">\n",
       "  <thead>\n",
       "    <tr style=\"text-align: right;\">\n",
       "      <th></th>\n",
       "      <th>ID</th>\n",
       "      <th>POS_Y</th>\n",
       "      <th>POS_X</th>\n",
       "    </tr>\n",
       "  </thead>\n",
       "  <tbody>\n",
       "    <tr>\n",
       "      <th>38</th>\n",
       "      <td>2016-0052</td>\n",
       "      <td>.</td>\n",
       "      <td>.</td>\n",
       "    </tr>\n",
       "    <tr>\n",
       "      <th>106</th>\n",
       "      <td>2016-0136</td>\n",
       "      <td>.</td>\n",
       "      <td>.</td>\n",
       "    </tr>\n",
       "    <tr>\n",
       "      <th>119</th>\n",
       "      <td>2016-0151</td>\n",
       "      <td>.</td>\n",
       "      <td>.</td>\n",
       "    </tr>\n",
       "    <tr>\n",
       "      <th>139</th>\n",
       "      <td>2016-0174</td>\n",
       "      <td>.</td>\n",
       "      <td>.</td>\n",
       "    </tr>\n",
       "    <tr>\n",
       "      <th>176</th>\n",
       "      <td>2017-0042</td>\n",
       "      <td>.</td>\n",
       "      <td>.</td>\n",
       "    </tr>\n",
       "    <tr>\n",
       "      <th>180</th>\n",
       "      <td>2017-0050</td>\n",
       "      <td>.</td>\n",
       "      <td>.</td>\n",
       "    </tr>\n",
       "    <tr>\n",
       "      <th>181</th>\n",
       "      <td>2017-0051</td>\n",
       "      <td>.</td>\n",
       "      <td>.</td>\n",
       "    </tr>\n",
       "    <tr>\n",
       "      <th>256</th>\n",
       "      <td>2017-0140</td>\n",
       "      <td>.</td>\n",
       "      <td>.</td>\n",
       "    </tr>\n",
       "    <tr>\n",
       "      <th>313</th>\n",
       "      <td>2018-0039</td>\n",
       "      <td>.</td>\n",
       "      <td>.</td>\n",
       "    </tr>\n",
       "    <tr>\n",
       "      <th>546</th>\n",
       "      <td>2020-0026</td>\n",
       "      <td>.</td>\n",
       "      <td>.</td>\n",
       "    </tr>\n",
       "    <tr>\n",
       "      <th>559</th>\n",
       "      <td>2020-0039</td>\n",
       "      <td>.</td>\n",
       "      <td>.</td>\n",
       "    </tr>\n",
       "    <tr>\n",
       "      <th>621</th>\n",
       "      <td>2021-0023</td>\n",
       "      <td>.</td>\n",
       "      <td>.</td>\n",
       "    </tr>\n",
       "  </tbody>\n",
       "</table>\n",
       "</div>"
      ],
      "text/plain": [
       "            ID POS_Y POS_X\n",
       "38   2016-0052     .     .\n",
       "106  2016-0136     .     .\n",
       "119  2016-0151     .     .\n",
       "139  2016-0174     .     .\n",
       "176  2017-0042     .     .\n",
       "180  2017-0050     .     .\n",
       "181  2017-0051     .     .\n",
       "256  2017-0140     .     .\n",
       "313  2018-0039     .     .\n",
       "546  2020-0026     .     .\n",
       "559  2020-0039     .     .\n",
       "621  2021-0023     .     ."
      ]
     },
     "execution_count": 23,
     "metadata": {},
     "output_type": "execute_result"
    }
   ],
   "source": [
    "# Aca usamos 'POS_X', pero revise y en ambas son los mismos registros\n",
    "df_hechos[df_hechos[\"POS_X\"] == \".\"][[\"ID\",\"POS_Y\", \"POS_X\"]]"
   ]
  },
  {
   "cell_type": "code",
   "execution_count": 24,
   "metadata": {},
   "outputs": [
    {
     "data": {
      "text/html": [
       "<div>\n",
       "<style scoped>\n",
       "    .dataframe tbody tr th:only-of-type {\n",
       "        vertical-align: middle;\n",
       "    }\n",
       "\n",
       "    .dataframe tbody tr th {\n",
       "        vertical-align: top;\n",
       "    }\n",
       "\n",
       "    .dataframe thead th {\n",
       "        text-align: right;\n",
       "    }\n",
       "</style>\n",
       "<table border=\"1\" class=\"dataframe\">\n",
       "  <thead>\n",
       "    <tr style=\"text-align: right;\">\n",
       "      <th></th>\n",
       "      <th>ID</th>\n",
       "      <th>NUMERO_VICTIMAS</th>\n",
       "      <th>FECHA</th>\n",
       "      <th>TIEMPO</th>\n",
       "      <th>HORA</th>\n",
       "      <th>LUGAR_DEL_HECHO</th>\n",
       "      <th>TIPO_DE_CALLE</th>\n",
       "      <th>CALLE</th>\n",
       "      <th>CRUCE</th>\n",
       "      <th>DIRECCION_NORMALIZADA</th>\n",
       "      <th>COMUNA</th>\n",
       "      <th>POS_X</th>\n",
       "      <th>POS_Y</th>\n",
       "      <th>PARTICIPANTES</th>\n",
       "      <th>VICTIMA</th>\n",
       "      <th>ACUSADO</th>\n",
       "    </tr>\n",
       "  </thead>\n",
       "  <tbody>\n",
       "    <tr>\n",
       "      <th>546</th>\n",
       "      <td>2020-0026</td>\n",
       "      <td>1</td>\n",
       "      <td>17/05/2020</td>\n",
       "      <td>06:40:00</td>\n",
       "      <td>6</td>\n",
       "      <td>LUGONES, LEOPOLDO AV. KM 6,1</td>\n",
       "      <td>AUTOPISTA</td>\n",
       "      <td>LUGONES, LEOPOLDO AV.</td>\n",
       "      <td>NO</td>\n",
       "      <td>SD</td>\n",
       "      <td>14</td>\n",
       "      <td>0</td>\n",
       "      <td>0</td>\n",
       "      <td>MOTO-OBJETO FIJO</td>\n",
       "      <td>MOTO</td>\n",
       "      <td>OBJETO FIJO</td>\n",
       "    </tr>\n",
       "  </tbody>\n",
       "</table>\n",
       "</div>"
      ],
      "text/plain": [
       "            ID  NUMERO_VICTIMAS       FECHA    TIEMPO HORA  \\\n",
       "546  2020-0026                1  17/05/2020  06:40:00    6   \n",
       "\n",
       "                  LUGAR_DEL_HECHO TIPO_DE_CALLE                  CALLE CRUCE  \\\n",
       "546  LUGONES, LEOPOLDO AV. KM 6,1     AUTOPISTA  LUGONES, LEOPOLDO AV.    NO   \n",
       "\n",
       "    DIRECCION_NORMALIZADA  COMUNA POS_X POS_Y     PARTICIPANTES VICTIMA  \\\n",
       "546                    SD      14     0     0  MOTO-OBJETO FIJO    MOTO   \n",
       "\n",
       "         ACUSADO  \n",
       "546  OBJETO FIJO  "
      ]
     },
     "execution_count": 24,
     "metadata": {},
     "output_type": "execute_result"
    }
   ],
   "source": [
    "df_hechos['POS_X'] = df_hechos['POS_X'].replace('.', 0)\n",
    "df_hechos['POS_Y'] = df_hechos['POS_Y'].replace('.', 0)\n",
    "\n",
    "# Verificamos\n",
    "\n",
    "df_hechos[df_hechos[\"ID\"] == \"2020-0026\"]"
   ]
  },
  {
   "cell_type": "markdown",
   "metadata": {},
   "source": [
    "### **Empezamos con el dataframe: df_victimas (victimas.csv)**\n",
    "\n",
    "#### **Tratamiento de datos nulos:**"
   ]
  },
  {
   "cell_type": "code",
   "execution_count": 25,
   "metadata": {},
   "outputs": [
    {
     "name": "stdout",
     "output_type": "stream",
     "text": [
      "<class 'pandas.core.frame.DataFrame'>\n",
      "RangeIndex: 717 entries, 0 to 716\n",
      "Data columns (total 9 columns):\n",
      " #   Column   Non-Null Count  Dtype \n",
      "---  ------   --------------  ----- \n",
      " 0   ID       717 non-null    object\n",
      " 1   FECHA    717 non-null    object\n",
      " 2   AAAA     717 non-null    int64 \n",
      " 3   MM       717 non-null    int64 \n",
      " 4   DD       717 non-null    int64 \n",
      " 5   ROL      717 non-null    object\n",
      " 6   VICTIMA  717 non-null    object\n",
      " 7   SEXO     717 non-null    object\n",
      " 8   EDAD     717 non-null    object\n",
      "dtypes: int64(3), object(6)\n",
      "memory usage: 50.5+ KB\n"
     ]
    }
   ],
   "source": [
    "df_victimas.info()"
   ]
  },
  {
   "cell_type": "code",
   "execution_count": 26,
   "metadata": {},
   "outputs": [
    {
     "data": {
      "text/plain": [
       "ID         0\n",
       "FECHA      0\n",
       "AAAA       0\n",
       "MM         0\n",
       "DD         0\n",
       "ROL        0\n",
       "VICTIMA    0\n",
       "SEXO       0\n",
       "EDAD       0\n",
       "dtype: int64"
      ]
     },
     "execution_count": 26,
     "metadata": {},
     "output_type": "execute_result"
    }
   ],
   "source": [
    "df_victimas.isna().sum()"
   ]
  },
  {
   "cell_type": "markdown",
   "metadata": {},
   "source": [
    "No hay datos nulos en este dataset."
   ]
  },
  {
   "cell_type": "markdown",
   "metadata": {},
   "source": [
    "#### **Tratamiento de datos duplicados**  \n",
    "No se observan datos duplicados:"
   ]
  },
  {
   "cell_type": "code",
   "execution_count": 27,
   "metadata": {},
   "outputs": [
    {
     "data": {
      "text/html": [
       "<div>\n",
       "<style scoped>\n",
       "    .dataframe tbody tr th:only-of-type {\n",
       "        vertical-align: middle;\n",
       "    }\n",
       "\n",
       "    .dataframe tbody tr th {\n",
       "        vertical-align: top;\n",
       "    }\n",
       "\n",
       "    .dataframe thead th {\n",
       "        text-align: right;\n",
       "    }\n",
       "</style>\n",
       "<table border=\"1\" class=\"dataframe\">\n",
       "  <thead>\n",
       "    <tr style=\"text-align: right;\">\n",
       "      <th></th>\n",
       "      <th>ID</th>\n",
       "      <th>FECHA</th>\n",
       "      <th>AAAA</th>\n",
       "      <th>MM</th>\n",
       "      <th>DD</th>\n",
       "      <th>ROL</th>\n",
       "      <th>VICTIMA</th>\n",
       "      <th>SEXO</th>\n",
       "      <th>EDAD</th>\n",
       "    </tr>\n",
       "  </thead>\n",
       "  <tbody>\n",
       "  </tbody>\n",
       "</table>\n",
       "</div>"
      ],
      "text/plain": [
       "Empty DataFrame\n",
       "Columns: [ID, FECHA, AAAA, MM, DD, ROL, VICTIMA, SEXO, EDAD]\n",
       "Index: []"
      ]
     },
     "execution_count": 27,
     "metadata": {},
     "output_type": "execute_result"
    }
   ],
   "source": [
    "df_victimas[df_victimas.duplicated()]"
   ]
  },
  {
   "cell_type": "markdown",
   "metadata": {},
   "source": [
    "Verificamos el 'ID_HECHO'"
   ]
  },
  {
   "cell_type": "code",
   "execution_count": 28,
   "metadata": {},
   "outputs": [
    {
     "data": {
      "text/html": [
       "<div>\n",
       "<style scoped>\n",
       "    .dataframe tbody tr th:only-of-type {\n",
       "        vertical-align: middle;\n",
       "    }\n",
       "\n",
       "    .dataframe tbody tr th {\n",
       "        vertical-align: top;\n",
       "    }\n",
       "\n",
       "    .dataframe thead th {\n",
       "        text-align: right;\n",
       "    }\n",
       "</style>\n",
       "<table border=\"1\" class=\"dataframe\">\n",
       "  <thead>\n",
       "    <tr style=\"text-align: right;\">\n",
       "      <th></th>\n",
       "      <th>ID</th>\n",
       "      <th>FECHA</th>\n",
       "      <th>AAAA</th>\n",
       "      <th>MM</th>\n",
       "      <th>DD</th>\n",
       "      <th>ROL</th>\n",
       "      <th>VICTIMA</th>\n",
       "      <th>SEXO</th>\n",
       "      <th>EDAD</th>\n",
       "    </tr>\n",
       "  </thead>\n",
       "  <tbody>\n",
       "    <tr>\n",
       "      <th>30</th>\n",
       "      <td>2016-0041</td>\n",
       "      <td>29/03/2016</td>\n",
       "      <td>2016</td>\n",
       "      <td>3</td>\n",
       "      <td>29</td>\n",
       "      <td>PASAJERO_ACOMPAÑANTE</td>\n",
       "      <td>MOTO</td>\n",
       "      <td>MASCULINO</td>\n",
       "      <td>SD</td>\n",
       "    </tr>\n",
       "    <tr>\n",
       "      <th>99</th>\n",
       "      <td>2016-0126</td>\n",
       "      <td>18/09/2016</td>\n",
       "      <td>2016</td>\n",
       "      <td>9</td>\n",
       "      <td>18</td>\n",
       "      <td>PASAJERO_ACOMPAÑANTE</td>\n",
       "      <td>AUTO</td>\n",
       "      <td>MASCULINO</td>\n",
       "      <td>60</td>\n",
       "    </tr>\n",
       "    <tr>\n",
       "      <th>164</th>\n",
       "      <td>2017-0026</td>\n",
       "      <td>26/02/2017</td>\n",
       "      <td>2017</td>\n",
       "      <td>2</td>\n",
       "      <td>26</td>\n",
       "      <td>CONDUCTOR</td>\n",
       "      <td>AUTO</td>\n",
       "      <td>MASCULINO</td>\n",
       "      <td>19</td>\n",
       "    </tr>\n",
       "    <tr>\n",
       "      <th>174</th>\n",
       "      <td>2017-0035</td>\n",
       "      <td>23/03/2017</td>\n",
       "      <td>2017</td>\n",
       "      <td>3</td>\n",
       "      <td>23</td>\n",
       "      <td>PASAJERO_ACOMPAÑANTE</td>\n",
       "      <td>AUTO</td>\n",
       "      <td>MASCULINO</td>\n",
       "      <td>32</td>\n",
       "    </tr>\n",
       "    <tr>\n",
       "      <th>175</th>\n",
       "      <td>2017-0035</td>\n",
       "      <td>23/03/2017</td>\n",
       "      <td>2017</td>\n",
       "      <td>3</td>\n",
       "      <td>23</td>\n",
       "      <td>PASAJERO_ACOMPAÑANTE</td>\n",
       "      <td>AUTO</td>\n",
       "      <td>MASCULINO</td>\n",
       "      <td>30</td>\n",
       "    </tr>\n",
       "    <tr>\n",
       "      <th>177</th>\n",
       "      <td>2017-0036</td>\n",
       "      <td>29/03/2017</td>\n",
       "      <td>2017</td>\n",
       "      <td>3</td>\n",
       "      <td>29</td>\n",
       "      <td>CONDUCTOR</td>\n",
       "      <td>MOTO</td>\n",
       "      <td>MASCULINO</td>\n",
       "      <td>20</td>\n",
       "    </tr>\n",
       "    <tr>\n",
       "      <th>187</th>\n",
       "      <td>2017-0050</td>\n",
       "      <td>28/04/2017</td>\n",
       "      <td>2017</td>\n",
       "      <td>4</td>\n",
       "      <td>28</td>\n",
       "      <td>PASAJERO_ACOMPAÑANTE</td>\n",
       "      <td>MOTO</td>\n",
       "      <td>MASCULINO</td>\n",
       "      <td>16</td>\n",
       "    </tr>\n",
       "    <tr>\n",
       "      <th>238</th>\n",
       "      <td>2017-0108</td>\n",
       "      <td>02/09/2017</td>\n",
       "      <td>2017</td>\n",
       "      <td>9</td>\n",
       "      <td>2</td>\n",
       "      <td>PASAJERO_ACOMPAÑANTE</td>\n",
       "      <td>AUTO</td>\n",
       "      <td>MASCULINO</td>\n",
       "      <td>10</td>\n",
       "    </tr>\n",
       "    <tr>\n",
       "      <th>243</th>\n",
       "      <td>2017-0112</td>\n",
       "      <td>10/09/2017</td>\n",
       "      <td>2017</td>\n",
       "      <td>9</td>\n",
       "      <td>10</td>\n",
       "      <td>PASAJERO_ACOMPAÑANTE</td>\n",
       "      <td>AUTO</td>\n",
       "      <td>MASCULINO</td>\n",
       "      <td>SD</td>\n",
       "    </tr>\n",
       "    <tr>\n",
       "      <th>254</th>\n",
       "      <td>2017-0126</td>\n",
       "      <td>14/10/2017</td>\n",
       "      <td>2017</td>\n",
       "      <td>10</td>\n",
       "      <td>14</td>\n",
       "      <td>CONDUCTOR</td>\n",
       "      <td>AUTO</td>\n",
       "      <td>MASCULINO</td>\n",
       "      <td>36</td>\n",
       "    </tr>\n",
       "    <tr>\n",
       "      <th>278</th>\n",
       "      <td>2017-0153</td>\n",
       "      <td>11/12/2017</td>\n",
       "      <td>2017</td>\n",
       "      <td>12</td>\n",
       "      <td>11</td>\n",
       "      <td>CONDUCTOR</td>\n",
       "      <td>MOTO</td>\n",
       "      <td>MASCULINO</td>\n",
       "      <td>30</td>\n",
       "    </tr>\n",
       "    <tr>\n",
       "      <th>301</th>\n",
       "      <td>2018-0015</td>\n",
       "      <td>06/02/2018</td>\n",
       "      <td>2018</td>\n",
       "      <td>2</td>\n",
       "      <td>6</td>\n",
       "      <td>PASAJERO_ACOMPAÑANTE</td>\n",
       "      <td>MOTO</td>\n",
       "      <td>MASCULINO</td>\n",
       "      <td>19</td>\n",
       "    </tr>\n",
       "    <tr>\n",
       "      <th>313</th>\n",
       "      <td>2018-0026</td>\n",
       "      <td>09/03/2018</td>\n",
       "      <td>2018</td>\n",
       "      <td>3</td>\n",
       "      <td>9</td>\n",
       "      <td>PASAJERO_ACOMPAÑANTE</td>\n",
       "      <td>MOVIL</td>\n",
       "      <td>MASCULINO</td>\n",
       "      <td>30</td>\n",
       "    </tr>\n",
       "    <tr>\n",
       "      <th>326</th>\n",
       "      <td>2018-0038</td>\n",
       "      <td>20/04/2018</td>\n",
       "      <td>2018</td>\n",
       "      <td>4</td>\n",
       "      <td>20</td>\n",
       "      <td>PEATON</td>\n",
       "      <td>PEATON</td>\n",
       "      <td>MASCULINO</td>\n",
       "      <td>61</td>\n",
       "    </tr>\n",
       "    <tr>\n",
       "      <th>374</th>\n",
       "      <td>2018-0085</td>\n",
       "      <td>03/08/2018</td>\n",
       "      <td>2018</td>\n",
       "      <td>8</td>\n",
       "      <td>3</td>\n",
       "      <td>CONDUCTOR</td>\n",
       "      <td>MOTO</td>\n",
       "      <td>MASCULINO</td>\n",
       "      <td>30</td>\n",
       "    </tr>\n",
       "    <tr>\n",
       "      <th>388</th>\n",
       "      <td>2018-0098</td>\n",
       "      <td>09/09/2018</td>\n",
       "      <td>2018</td>\n",
       "      <td>9</td>\n",
       "      <td>9</td>\n",
       "      <td>PASAJERO_ACOMPAÑANTE</td>\n",
       "      <td>AUTO</td>\n",
       "      <td>MASCULINO</td>\n",
       "      <td>54</td>\n",
       "    </tr>\n",
       "    <tr>\n",
       "      <th>419</th>\n",
       "      <td>2018-0128</td>\n",
       "      <td>25/11/2018</td>\n",
       "      <td>2018</td>\n",
       "      <td>11</td>\n",
       "      <td>25</td>\n",
       "      <td>PASAJERO_ACOMPAÑANTE</td>\n",
       "      <td>AUTO</td>\n",
       "      <td>FEMENINO</td>\n",
       "      <td>39</td>\n",
       "    </tr>\n",
       "    <tr>\n",
       "      <th>445</th>\n",
       "      <td>2019-0010</td>\n",
       "      <td>02/02/2019</td>\n",
       "      <td>2019</td>\n",
       "      <td>2</td>\n",
       "      <td>2</td>\n",
       "      <td>PEATON</td>\n",
       "      <td>PEATON</td>\n",
       "      <td>MASCULINO</td>\n",
       "      <td>59</td>\n",
       "    </tr>\n",
       "    <tr>\n",
       "      <th>577</th>\n",
       "      <td>2020-0038</td>\n",
       "      <td>30/08/2020</td>\n",
       "      <td>2020</td>\n",
       "      <td>8</td>\n",
       "      <td>30</td>\n",
       "      <td>CONDUCTOR</td>\n",
       "      <td>AUTO</td>\n",
       "      <td>MASCULINO</td>\n",
       "      <td>64</td>\n",
       "    </tr>\n",
       "    <tr>\n",
       "      <th>603</th>\n",
       "      <td>2020-0063</td>\n",
       "      <td>05/12/2020</td>\n",
       "      <td>2020</td>\n",
       "      <td>12</td>\n",
       "      <td>5</td>\n",
       "      <td>PASAJERO_ACOMPAÑANTE</td>\n",
       "      <td>MOTO</td>\n",
       "      <td>MASCULINO</td>\n",
       "      <td>21</td>\n",
       "    </tr>\n",
       "    <tr>\n",
       "      <th>617</th>\n",
       "      <td>2020-0077</td>\n",
       "      <td>25/12/2020</td>\n",
       "      <td>2020</td>\n",
       "      <td>12</td>\n",
       "      <td>25</td>\n",
       "      <td>PASAJERO_ACOMPAÑANTE</td>\n",
       "      <td>MOTO</td>\n",
       "      <td>FEMENINO</td>\n",
       "      <td>24</td>\n",
       "    </tr>\n",
       "  </tbody>\n",
       "</table>\n",
       "</div>"
      ],
      "text/plain": [
       "            ID       FECHA  AAAA  MM  DD                   ROL VICTIMA  \\\n",
       "30   2016-0041  29/03/2016  2016   3  29  PASAJERO_ACOMPAÑANTE    MOTO   \n",
       "99   2016-0126  18/09/2016  2016   9  18  PASAJERO_ACOMPAÑANTE    AUTO   \n",
       "164  2017-0026  26/02/2017  2017   2  26             CONDUCTOR    AUTO   \n",
       "174  2017-0035  23/03/2017  2017   3  23  PASAJERO_ACOMPAÑANTE    AUTO   \n",
       "175  2017-0035  23/03/2017  2017   3  23  PASAJERO_ACOMPAÑANTE    AUTO   \n",
       "177  2017-0036  29/03/2017  2017   3  29             CONDUCTOR    MOTO   \n",
       "187  2017-0050  28/04/2017  2017   4  28  PASAJERO_ACOMPAÑANTE    MOTO   \n",
       "238  2017-0108  02/09/2017  2017   9   2  PASAJERO_ACOMPAÑANTE    AUTO   \n",
       "243  2017-0112  10/09/2017  2017   9  10  PASAJERO_ACOMPAÑANTE    AUTO   \n",
       "254  2017-0126  14/10/2017  2017  10  14             CONDUCTOR    AUTO   \n",
       "278  2017-0153  11/12/2017  2017  12  11             CONDUCTOR    MOTO   \n",
       "301  2018-0015  06/02/2018  2018   2   6  PASAJERO_ACOMPAÑANTE    MOTO   \n",
       "313  2018-0026  09/03/2018  2018   3   9  PASAJERO_ACOMPAÑANTE   MOVIL   \n",
       "326  2018-0038  20/04/2018  2018   4  20                PEATON  PEATON   \n",
       "374  2018-0085  03/08/2018  2018   8   3             CONDUCTOR    MOTO   \n",
       "388  2018-0098  09/09/2018  2018   9   9  PASAJERO_ACOMPAÑANTE    AUTO   \n",
       "419  2018-0128  25/11/2018  2018  11  25  PASAJERO_ACOMPAÑANTE    AUTO   \n",
       "445  2019-0010  02/02/2019  2019   2   2                PEATON  PEATON   \n",
       "577  2020-0038  30/08/2020  2020   8  30             CONDUCTOR    AUTO   \n",
       "603  2020-0063  05/12/2020  2020  12   5  PASAJERO_ACOMPAÑANTE    MOTO   \n",
       "617  2020-0077  25/12/2020  2020  12  25  PASAJERO_ACOMPAÑANTE    MOTO   \n",
       "\n",
       "          SEXO EDAD  \n",
       "30   MASCULINO   SD  \n",
       "99   MASCULINO   60  \n",
       "164  MASCULINO   19  \n",
       "174  MASCULINO   32  \n",
       "175  MASCULINO   30  \n",
       "177  MASCULINO   20  \n",
       "187  MASCULINO   16  \n",
       "238  MASCULINO   10  \n",
       "243  MASCULINO   SD  \n",
       "254  MASCULINO   36  \n",
       "278  MASCULINO   30  \n",
       "301  MASCULINO   19  \n",
       "313  MASCULINO   30  \n",
       "326  MASCULINO   61  \n",
       "374  MASCULINO   30  \n",
       "388  MASCULINO   54  \n",
       "419   FEMENINO   39  \n",
       "445  MASCULINO   59  \n",
       "577  MASCULINO   64  \n",
       "603  MASCULINO   21  \n",
       "617   FEMENINO   24  "
      ]
     },
     "execution_count": 28,
     "metadata": {},
     "output_type": "execute_result"
    }
   ],
   "source": [
    "df_victimas[df_victimas[\"ID\"].duplicated()]"
   ]
  },
  {
   "cell_type": "markdown",
   "metadata": {},
   "source": [
    "Hay duplicados, pero son necesarios ya que son víctimas de un mismo accidente, ejemplo:"
   ]
  },
  {
   "cell_type": "code",
   "execution_count": 29,
   "metadata": {},
   "outputs": [
    {
     "data": {
      "text/html": [
       "<div>\n",
       "<style scoped>\n",
       "    .dataframe tbody tr th:only-of-type {\n",
       "        vertical-align: middle;\n",
       "    }\n",
       "\n",
       "    .dataframe tbody tr th {\n",
       "        vertical-align: top;\n",
       "    }\n",
       "\n",
       "    .dataframe thead th {\n",
       "        text-align: right;\n",
       "    }\n",
       "</style>\n",
       "<table border=\"1\" class=\"dataframe\">\n",
       "  <thead>\n",
       "    <tr style=\"text-align: right;\">\n",
       "      <th></th>\n",
       "      <th>ID</th>\n",
       "      <th>FECHA</th>\n",
       "      <th>AAAA</th>\n",
       "      <th>MM</th>\n",
       "      <th>DD</th>\n",
       "      <th>ROL</th>\n",
       "      <th>VICTIMA</th>\n",
       "      <th>SEXO</th>\n",
       "      <th>EDAD</th>\n",
       "    </tr>\n",
       "  </thead>\n",
       "  <tbody>\n",
       "    <tr>\n",
       "      <th>29</th>\n",
       "      <td>2016-0041</td>\n",
       "      <td>29/03/2016</td>\n",
       "      <td>2016</td>\n",
       "      <td>3</td>\n",
       "      <td>29</td>\n",
       "      <td>CONDUCTOR</td>\n",
       "      <td>MOTO</td>\n",
       "      <td>MASCULINO</td>\n",
       "      <td>54</td>\n",
       "    </tr>\n",
       "    <tr>\n",
       "      <th>30</th>\n",
       "      <td>2016-0041</td>\n",
       "      <td>29/03/2016</td>\n",
       "      <td>2016</td>\n",
       "      <td>3</td>\n",
       "      <td>29</td>\n",
       "      <td>PASAJERO_ACOMPAÑANTE</td>\n",
       "      <td>MOTO</td>\n",
       "      <td>MASCULINO</td>\n",
       "      <td>SD</td>\n",
       "    </tr>\n",
       "  </tbody>\n",
       "</table>\n",
       "</div>"
      ],
      "text/plain": [
       "           ID       FECHA  AAAA  MM  DD                   ROL VICTIMA  \\\n",
       "29  2016-0041  29/03/2016  2016   3  29             CONDUCTOR    MOTO   \n",
       "30  2016-0041  29/03/2016  2016   3  29  PASAJERO_ACOMPAÑANTE    MOTO   \n",
       "\n",
       "         SEXO EDAD  \n",
       "29  MASCULINO   54  \n",
       "30  MASCULINO   SD  "
      ]
     },
     "execution_count": 29,
     "metadata": {},
     "output_type": "execute_result"
    }
   ],
   "source": [
    "df_victimas[df_victimas[\"ID\"] == \"2016-0041\"]"
   ]
  },
  {
   "cell_type": "markdown",
   "metadata": {},
   "source": [
    "**Verificación de Tipos de Variables**  \n",
    "Observamos que la columna/variable 'EDAD' es del tipo incorrecto, verificamos:"
   ]
  },
  {
   "cell_type": "code",
   "execution_count": 30,
   "metadata": {},
   "outputs": [
    {
     "name": "stdout",
     "output_type": "stream",
     "text": [
      "<class 'pandas.core.frame.DataFrame'>\n",
      "RangeIndex: 717 entries, 0 to 716\n",
      "Data columns (total 9 columns):\n",
      " #   Column   Non-Null Count  Dtype \n",
      "---  ------   --------------  ----- \n",
      " 0   ID       717 non-null    object\n",
      " 1   FECHA    717 non-null    object\n",
      " 2   AAAA     717 non-null    int64 \n",
      " 3   MM       717 non-null    int64 \n",
      " 4   DD       717 non-null    int64 \n",
      " 5   ROL      717 non-null    object\n",
      " 6   VICTIMA  717 non-null    object\n",
      " 7   SEXO     717 non-null    object\n",
      " 8   EDAD     717 non-null    object\n",
      "dtypes: int64(3), object(6)\n",
      "memory usage: 50.5+ KB\n"
     ]
    }
   ],
   "source": [
    "df_victimas.info()"
   ]
  },
  {
   "cell_type": "code",
   "execution_count": 31,
   "metadata": {},
   "outputs": [
    {
     "data": {
      "text/html": [
       "<div>\n",
       "<style scoped>\n",
       "    .dataframe tbody tr th:only-of-type {\n",
       "        vertical-align: middle;\n",
       "    }\n",
       "\n",
       "    .dataframe tbody tr th {\n",
       "        vertical-align: top;\n",
       "    }\n",
       "\n",
       "    .dataframe thead th {\n",
       "        text-align: right;\n",
       "    }\n",
       "</style>\n",
       "<table border=\"1\" class=\"dataframe\">\n",
       "  <thead>\n",
       "    <tr style=\"text-align: right;\">\n",
       "      <th></th>\n",
       "      <th>ID</th>\n",
       "      <th>FECHA</th>\n",
       "      <th>AAAA</th>\n",
       "      <th>MM</th>\n",
       "      <th>DD</th>\n",
       "      <th>ROL</th>\n",
       "      <th>VICTIMA</th>\n",
       "      <th>SEXO</th>\n",
       "      <th>EDAD</th>\n",
       "    </tr>\n",
       "  </thead>\n",
       "  <tbody>\n",
       "    <tr>\n",
       "      <th>30</th>\n",
       "      <td>2016-0041</td>\n",
       "      <td>29/03/2016</td>\n",
       "      <td>2016</td>\n",
       "      <td>3</td>\n",
       "      <td>29</td>\n",
       "      <td>PASAJERO_ACOMPAÑANTE</td>\n",
       "      <td>MOTO</td>\n",
       "      <td>MASCULINO</td>\n",
       "      <td>SD</td>\n",
       "    </tr>\n",
       "    <tr>\n",
       "      <th>33</th>\n",
       "      <td>2016-0045</td>\n",
       "      <td>11/04/2016</td>\n",
       "      <td>2016</td>\n",
       "      <td>4</td>\n",
       "      <td>11</td>\n",
       "      <td>CONDUCTOR</td>\n",
       "      <td>MOTO</td>\n",
       "      <td>MASCULINO</td>\n",
       "      <td>SD</td>\n",
       "    </tr>\n",
       "  </tbody>\n",
       "</table>\n",
       "</div>"
      ],
      "text/plain": [
       "           ID       FECHA  AAAA  MM  DD                   ROL VICTIMA  \\\n",
       "30  2016-0041  29/03/2016  2016   3  29  PASAJERO_ACOMPAÑANTE    MOTO   \n",
       "33  2016-0045  11/04/2016  2016   4  11             CONDUCTOR    MOTO   \n",
       "\n",
       "         SEXO EDAD  \n",
       "30  MASCULINO   SD  \n",
       "33  MASCULINO   SD  "
      ]
     },
     "execution_count": 31,
     "metadata": {},
     "output_type": "execute_result"
    }
   ],
   "source": [
    "# Vemos valores únicos\n",
    "df_victimas[df_victimas[\"EDAD\"] == \"SD\"].head(2)"
   ]
  },
  {
   "cell_type": "markdown",
   "metadata": {},
   "source": [
    "Como podemos observar es debido a que hay valores 'SD' que la columna 'EDAD' no es de tipo int.  \n",
    "Para solucionarlo buscaremos cambiar esos valores por el promedio de la edad, pero de acuerdo al sexo de la víctima.  \n",
    "\n",
    "Para eso primero debemos cambiar los valores de la columna 'SEXO', ya que algunos son 'SD':"
   ]
  },
  {
   "cell_type": "code",
   "execution_count": 32,
   "metadata": {},
   "outputs": [
    {
     "data": {
      "text/html": [
       "<div>\n",
       "<style scoped>\n",
       "    .dataframe tbody tr th:only-of-type {\n",
       "        vertical-align: middle;\n",
       "    }\n",
       "\n",
       "    .dataframe tbody tr th {\n",
       "        vertical-align: top;\n",
       "    }\n",
       "\n",
       "    .dataframe thead th {\n",
       "        text-align: right;\n",
       "    }\n",
       "</style>\n",
       "<table border=\"1\" class=\"dataframe\">\n",
       "  <thead>\n",
       "    <tr style=\"text-align: right;\">\n",
       "      <th></th>\n",
       "      <th>ID</th>\n",
       "      <th>FECHA</th>\n",
       "      <th>AAAA</th>\n",
       "      <th>MM</th>\n",
       "      <th>DD</th>\n",
       "      <th>ROL</th>\n",
       "      <th>VICTIMA</th>\n",
       "      <th>SEXO</th>\n",
       "      <th>EDAD</th>\n",
       "    </tr>\n",
       "  </thead>\n",
       "  <tbody>\n",
       "    <tr>\n",
       "      <th>36</th>\n",
       "      <td>2016-0049</td>\n",
       "      <td>17/04/2016</td>\n",
       "      <td>2016</td>\n",
       "      <td>4</td>\n",
       "      <td>17</td>\n",
       "      <td>SD</td>\n",
       "      <td>SD</td>\n",
       "      <td>SD</td>\n",
       "      <td>SD</td>\n",
       "    </tr>\n",
       "    <tr>\n",
       "      <th>39</th>\n",
       "      <td>2016-0052</td>\n",
       "      <td>20/04/2016</td>\n",
       "      <td>2016</td>\n",
       "      <td>4</td>\n",
       "      <td>20</td>\n",
       "      <td>SD</td>\n",
       "      <td>MOTO</td>\n",
       "      <td>SD</td>\n",
       "      <td>SD</td>\n",
       "    </tr>\n",
       "    <tr>\n",
       "      <th>108</th>\n",
       "      <td>2016-0136</td>\n",
       "      <td>25/10/2016</td>\n",
       "      <td>2016</td>\n",
       "      <td>10</td>\n",
       "      <td>25</td>\n",
       "      <td>CONDUCTOR</td>\n",
       "      <td>MOTO</td>\n",
       "      <td>SD</td>\n",
       "      <td>SD</td>\n",
       "    </tr>\n",
       "    <tr>\n",
       "      <th>121</th>\n",
       "      <td>2016-0151</td>\n",
       "      <td>18/11/2016</td>\n",
       "      <td>2016</td>\n",
       "      <td>11</td>\n",
       "      <td>18</td>\n",
       "      <td>PEATON</td>\n",
       "      <td>PEATON</td>\n",
       "      <td>SD</td>\n",
       "      <td>SD</td>\n",
       "    </tr>\n",
       "    <tr>\n",
       "      <th>138</th>\n",
       "      <td>2016-0171</td>\n",
       "      <td>25/12/2016</td>\n",
       "      <td>2016</td>\n",
       "      <td>12</td>\n",
       "      <td>25</td>\n",
       "      <td>CONDUCTOR</td>\n",
       "      <td>MOTO</td>\n",
       "      <td>SD</td>\n",
       "      <td>SD</td>\n",
       "    </tr>\n",
       "    <tr>\n",
       "      <th>141</th>\n",
       "      <td>2016-0174</td>\n",
       "      <td>27/12/2016</td>\n",
       "      <td>2016</td>\n",
       "      <td>12</td>\n",
       "      <td>27</td>\n",
       "      <td>SD</td>\n",
       "      <td>SD</td>\n",
       "      <td>SD</td>\n",
       "      <td>SD</td>\n",
       "    </tr>\n",
       "  </tbody>\n",
       "</table>\n",
       "</div>"
      ],
      "text/plain": [
       "            ID       FECHA  AAAA  MM  DD        ROL VICTIMA SEXO EDAD\n",
       "36   2016-0049  17/04/2016  2016   4  17         SD      SD   SD   SD\n",
       "39   2016-0052  20/04/2016  2016   4  20         SD    MOTO   SD   SD\n",
       "108  2016-0136  25/10/2016  2016  10  25  CONDUCTOR    MOTO   SD   SD\n",
       "121  2016-0151  18/11/2016  2016  11  18     PEATON  PEATON   SD   SD\n",
       "138  2016-0171  25/12/2016  2016  12  25  CONDUCTOR    MOTO   SD   SD\n",
       "141  2016-0174  27/12/2016  2016  12  27         SD      SD   SD   SD"
      ]
     },
     "execution_count": 32,
     "metadata": {},
     "output_type": "execute_result"
    }
   ],
   "source": [
    "df_victimas[df_victimas[\"SEXO\"] == \"SD\"]"
   ]
  },
  {
   "cell_type": "code",
   "execution_count": 33,
   "metadata": {},
   "outputs": [
    {
     "name": "stdout",
     "output_type": "stream",
     "text": [
      "El valor más frecuente  MASCULINO\n"
     ]
    }
   ],
   "source": [
    "#Se reemplaza 'SD' con NaN\n",
    "df_victimas[\"SEXO\"]=df_victimas[\"SEXO\"].replace('SD', pd.NA)\n",
    "    \n",
    "#Verifica el valor más frecuente en la columna\n",
    "valor_frecuente= df_victimas[\"SEXO\"].mode().iloc[0]\n",
    "print('El valor más frecuente ', valor_frecuente)\n",
    "\n",
    "#Se modifican los valores NaN, con el valor más frecuente\n",
    "df_victimas[\"SEXO\"].fillna(valor_frecuente, inplace=True)"
   ]
  },
  {
   "cell_type": "markdown",
   "metadata": {},
   "source": [
    "Ahora si modificamos 'EDAD':"
   ]
  },
  {
   "cell_type": "code",
   "execution_count": 34,
   "metadata": {},
   "outputs": [],
   "source": [
    "# Convertir 'Edad' a tipo numérico (int o float) si es posible\n",
    "df_victimas['EDAD'] = pd.to_numeric(df_victimas['EDAD'], errors='coerce')\n",
    "\n",
    "#Reemplaza 'SD' con NaN en la columna 'Edad'.\n",
    "df_victimas['EDAD']= df_victimas['EDAD'].replace('SD', pd.NA)\n",
    "\n",
    "#Se calcula el valor promedio de la edad, para cada género(es decir, agrupamos por género).\n",
    "promedio_por_genero = df_victimas.groupby('SEXO')['EDAD'].mean()\n",
    "\n",
    "# Modificamos los valores NaN en 'Edad', con los valores correspondientes en cada género\n",
    "df_victimas['EDAD'] = df_victimas.apply(lambda row: promedio_por_genero[row['SEXO']] if pd.isna(row['EDAD']) else row['EDAD'], axis=1)\n",
    "\n",
    "# Convertir el valor ingresado a tipo int\n",
    "df_victimas['EDAD'] = df_victimas['EDAD'].astype(int)"
   ]
  },
  {
   "cell_type": "markdown",
   "metadata": {},
   "source": [
    "Verificamos un caso y la info():"
   ]
  },
  {
   "cell_type": "code",
   "execution_count": 35,
   "metadata": {},
   "outputs": [
    {
     "data": {
      "text/html": [
       "<div>\n",
       "<style scoped>\n",
       "    .dataframe tbody tr th:only-of-type {\n",
       "        vertical-align: middle;\n",
       "    }\n",
       "\n",
       "    .dataframe tbody tr th {\n",
       "        vertical-align: top;\n",
       "    }\n",
       "\n",
       "    .dataframe thead th {\n",
       "        text-align: right;\n",
       "    }\n",
       "</style>\n",
       "<table border=\"1\" class=\"dataframe\">\n",
       "  <thead>\n",
       "    <tr style=\"text-align: right;\">\n",
       "      <th></th>\n",
       "      <th>ID</th>\n",
       "      <th>FECHA</th>\n",
       "      <th>AAAA</th>\n",
       "      <th>MM</th>\n",
       "      <th>DD</th>\n",
       "      <th>ROL</th>\n",
       "      <th>VICTIMA</th>\n",
       "      <th>SEXO</th>\n",
       "      <th>EDAD</th>\n",
       "    </tr>\n",
       "  </thead>\n",
       "  <tbody>\n",
       "    <tr>\n",
       "      <th>36</th>\n",
       "      <td>2016-0049</td>\n",
       "      <td>17/04/2016</td>\n",
       "      <td>2016</td>\n",
       "      <td>4</td>\n",
       "      <td>17</td>\n",
       "      <td>SD</td>\n",
       "      <td>SD</td>\n",
       "      <td>MASCULINO</td>\n",
       "      <td>39</td>\n",
       "    </tr>\n",
       "  </tbody>\n",
       "</table>\n",
       "</div>"
      ],
      "text/plain": [
       "           ID       FECHA  AAAA  MM  DD ROL VICTIMA       SEXO  EDAD\n",
       "36  2016-0049  17/04/2016  2016   4  17  SD      SD  MASCULINO    39"
      ]
     },
     "execution_count": 35,
     "metadata": {},
     "output_type": "execute_result"
    }
   ],
   "source": [
    "df_victimas[df_victimas[\"ID\"] == \"2016-0049\"]"
   ]
  },
  {
   "cell_type": "code",
   "execution_count": 36,
   "metadata": {},
   "outputs": [
    {
     "name": "stdout",
     "output_type": "stream",
     "text": [
      "<class 'pandas.core.frame.DataFrame'>\n",
      "RangeIndex: 717 entries, 0 to 716\n",
      "Data columns (total 9 columns):\n",
      " #   Column   Non-Null Count  Dtype \n",
      "---  ------   --------------  ----- \n",
      " 0   ID       717 non-null    object\n",
      " 1   FECHA    717 non-null    object\n",
      " 2   AAAA     717 non-null    int64 \n",
      " 3   MM       717 non-null    int64 \n",
      " 4   DD       717 non-null    int64 \n",
      " 5   ROL      717 non-null    object\n",
      " 6   VICTIMA  717 non-null    object\n",
      " 7   SEXO     717 non-null    object\n",
      " 8   EDAD     717 non-null    int32 \n",
      "dtypes: int32(1), int64(3), object(5)\n",
      "memory usage: 47.7+ KB\n"
     ]
    }
   ],
   "source": [
    "df_victimas.info()"
   ]
  },
  {
   "cell_type": "markdown",
   "metadata": {},
   "source": [
    "**Las últimas dos columnas con valores 'SD' (Sin Dato) son 'ROL' y 'VICTIMA'**\n",
    "\n",
    "A cada una le cambiaremos los valores 'SD' por el valor más frecuente de cada columna:"
   ]
  },
  {
   "cell_type": "code",
   "execution_count": 37,
   "metadata": {},
   "outputs": [
    {
     "name": "stdout",
     "output_type": "stream",
     "text": [
      "Columnas con valores 'SD', ROL: 11 y VICTIMA: 9\n"
     ]
    }
   ],
   "source": [
    "rol = len(df_victimas[df_victimas[\"ROL\"] == \"SD\"])\n",
    "victima = len(df_victimas[df_victimas[\"VICTIMA\"] == \"SD\"])\n",
    "\n",
    "print(f\"Columnas con valores 'SD', ROL: {rol} y VICTIMA: {victima}\")"
   ]
  },
  {
   "cell_type": "code",
   "execution_count": 38,
   "metadata": {},
   "outputs": [
    {
     "name": "stdout",
     "output_type": "stream",
     "text": [
      "El valor más frecuente  CONDUCTOR\n",
      "El valor más frecuente  MOTO\n"
     ]
    }
   ],
   "source": [
    "# ROL:\n",
    "#Se reemplaza 'SD' con NaN\n",
    "df_victimas[\"ROL\"]=df_victimas[\"ROL\"].replace('SD', pd.NA)\n",
    "    \n",
    "#Verifica el valor más frecuente en la columna\n",
    "valor_frecuente= df_victimas[\"ROL\"].mode().iloc[0]\n",
    "print('El valor más frecuente ', valor_frecuente)\n",
    "\n",
    "#Se modifican los valores NaN, con el valor más frecuente\n",
    "df_victimas[\"ROL\"].fillna(valor_frecuente, inplace=True)\n",
    "\n",
    "# VICTIMA:\n",
    "#Se reemplaza 'SD' con NaN\n",
    "df_victimas[\"VICTIMA\"]=df_victimas[\"VICTIMA\"].replace('SD', pd.NA)\n",
    "    \n",
    "#Verifica el valor más frecuente en la columna\n",
    "valor_frecuente= df_victimas[\"VICTIMA\"].mode().iloc[0]\n",
    "print('El valor más frecuente ', valor_frecuente)\n",
    "\n",
    "#Se modifican los valores NaN, con el valor más frecuente\n",
    "df_victimas[\"VICTIMA\"].fillna(valor_frecuente, inplace=True)"
   ]
  },
  {
   "cell_type": "code",
   "execution_count": 39,
   "metadata": {},
   "outputs": [
    {
     "name": "stdout",
     "output_type": "stream",
     "text": [
      "Columnas con valores 'SD', ROL: 0 y VICTIMA: 0\n"
     ]
    }
   ],
   "source": [
    "rol = len(df_victimas[df_victimas[\"ROL\"] == \"SD\"])\n",
    "victima = len(df_victimas[df_victimas[\"VICTIMA\"] == \"SD\"])\n",
    "\n",
    "print(f\"Columnas con valores 'SD', ROL: {rol} y VICTIMA: {victima}\")"
   ]
  },
  {
   "cell_type": "markdown",
   "metadata": {},
   "source": [
    "## **Fusión de ambos Dataframes**  \n",
    "**Para finalizar fusionaremos ambos dataframes 'df_hechos' y 'df_victimas'.**  \n",
    "  \n",
    "Pero primero debemos eliminar las columnas repetidas/innecesarias en el dataframe 'df_victimas':"
   ]
  },
  {
   "cell_type": "code",
   "execution_count": 40,
   "metadata": {},
   "outputs": [],
   "source": [
    "drops = [\"FECHA\", \"VICTIMA\"]\n",
    "df_victimas.drop(drops, axis=1, inplace=True)"
   ]
  },
  {
   "cell_type": "markdown",
   "metadata": {},
   "source": [
    "Unificamos ambos dataframes a través de la columna en común: 'ID'"
   ]
  },
  {
   "cell_type": "code",
   "execution_count": 41,
   "metadata": {},
   "outputs": [
    {
     "data": {
      "text/html": [
       "<div>\n",
       "<style scoped>\n",
       "    .dataframe tbody tr th:only-of-type {\n",
       "        vertical-align: middle;\n",
       "    }\n",
       "\n",
       "    .dataframe tbody tr th {\n",
       "        vertical-align: top;\n",
       "    }\n",
       "\n",
       "    .dataframe thead th {\n",
       "        text-align: right;\n",
       "    }\n",
       "</style>\n",
       "<table border=\"1\" class=\"dataframe\">\n",
       "  <thead>\n",
       "    <tr style=\"text-align: right;\">\n",
       "      <th></th>\n",
       "      <th>ID</th>\n",
       "      <th>AAAA</th>\n",
       "      <th>MM</th>\n",
       "      <th>DD</th>\n",
       "      <th>ROL</th>\n",
       "      <th>SEXO</th>\n",
       "      <th>EDAD</th>\n",
       "      <th>NUMERO_VICTIMAS</th>\n",
       "      <th>FECHA</th>\n",
       "      <th>TIEMPO</th>\n",
       "      <th>...</th>\n",
       "      <th>TIPO_DE_CALLE</th>\n",
       "      <th>CALLE</th>\n",
       "      <th>CRUCE</th>\n",
       "      <th>DIRECCION_NORMALIZADA</th>\n",
       "      <th>COMUNA</th>\n",
       "      <th>POS_X</th>\n",
       "      <th>POS_Y</th>\n",
       "      <th>PARTICIPANTES</th>\n",
       "      <th>VICTIMA</th>\n",
       "      <th>ACUSADO</th>\n",
       "    </tr>\n",
       "  </thead>\n",
       "  <tbody>\n",
       "    <tr>\n",
       "      <th>0</th>\n",
       "      <td>2016-0001</td>\n",
       "      <td>2016</td>\n",
       "      <td>1</td>\n",
       "      <td>1</td>\n",
       "      <td>CONDUCTOR</td>\n",
       "      <td>MASCULINO</td>\n",
       "      <td>19</td>\n",
       "      <td>1</td>\n",
       "      <td>01/01/2016</td>\n",
       "      <td>04:00:00</td>\n",
       "      <td>...</td>\n",
       "      <td>AVENIDA</td>\n",
       "      <td>PIEDRA BUENA AV.</td>\n",
       "      <td>SI</td>\n",
       "      <td>PIEDRA BUENA AV. y FERNANDEZ DE LA CRUZ, F., G...</td>\n",
       "      <td>8</td>\n",
       "      <td>-58.47533969</td>\n",
       "      <td>-34.68757022</td>\n",
       "      <td>MOTO-AUTO</td>\n",
       "      <td>MOTO</td>\n",
       "      <td>AUTO</td>\n",
       "    </tr>\n",
       "    <tr>\n",
       "      <th>1</th>\n",
       "      <td>2016-0002</td>\n",
       "      <td>2016</td>\n",
       "      <td>1</td>\n",
       "      <td>2</td>\n",
       "      <td>CONDUCTOR</td>\n",
       "      <td>MASCULINO</td>\n",
       "      <td>70</td>\n",
       "      <td>1</td>\n",
       "      <td>02/01/2016</td>\n",
       "      <td>01:15:00</td>\n",
       "      <td>...</td>\n",
       "      <td>GRAL PAZ</td>\n",
       "      <td>PAZ, GRAL. AV.</td>\n",
       "      <td>SI</td>\n",
       "      <td>PAZ, GRAL. AV. y DE LOS CORRALES AV.</td>\n",
       "      <td>9</td>\n",
       "      <td>-58.50877521</td>\n",
       "      <td>-34.66977709</td>\n",
       "      <td>AUTO-PASAJEROS</td>\n",
       "      <td>AUTO</td>\n",
       "      <td>PASAJEROS</td>\n",
       "    </tr>\n",
       "    <tr>\n",
       "      <th>2</th>\n",
       "      <td>2016-0003</td>\n",
       "      <td>2016</td>\n",
       "      <td>1</td>\n",
       "      <td>3</td>\n",
       "      <td>CONDUCTOR</td>\n",
       "      <td>MASCULINO</td>\n",
       "      <td>30</td>\n",
       "      <td>1</td>\n",
       "      <td>03/01/2016</td>\n",
       "      <td>07:00:00</td>\n",
       "      <td>...</td>\n",
       "      <td>AVENIDA</td>\n",
       "      <td>ENTRE RIOS AV.</td>\n",
       "      <td>NO</td>\n",
       "      <td>ENTRE RIOS AV. 2034</td>\n",
       "      <td>1</td>\n",
       "      <td>-58.39040293</td>\n",
       "      <td>-34.63189362</td>\n",
       "      <td>MOTO-AUTO</td>\n",
       "      <td>MOTO</td>\n",
       "      <td>AUTO</td>\n",
       "    </tr>\n",
       "    <tr>\n",
       "      <th>3</th>\n",
       "      <td>2016-0004</td>\n",
       "      <td>2016</td>\n",
       "      <td>1</td>\n",
       "      <td>10</td>\n",
       "      <td>CONDUCTOR</td>\n",
       "      <td>MASCULINO</td>\n",
       "      <td>18</td>\n",
       "      <td>1</td>\n",
       "      <td>10/01/2016</td>\n",
       "      <td>00:00:00</td>\n",
       "      <td>...</td>\n",
       "      <td>AVENIDA</td>\n",
       "      <td>LARRAZABAL AV.</td>\n",
       "      <td>SI</td>\n",
       "      <td>LARRAZABAL AV. y VILLEGAS, CONRADO, GRAL.</td>\n",
       "      <td>8</td>\n",
       "      <td>-58.46503904</td>\n",
       "      <td>-34.68092974</td>\n",
       "      <td>MOTO-SD</td>\n",
       "      <td>MOTO</td>\n",
       "      <td>SD</td>\n",
       "    </tr>\n",
       "    <tr>\n",
       "      <th>4</th>\n",
       "      <td>2016-0005</td>\n",
       "      <td>2016</td>\n",
       "      <td>1</td>\n",
       "      <td>21</td>\n",
       "      <td>CONDUCTOR</td>\n",
       "      <td>MASCULINO</td>\n",
       "      <td>29</td>\n",
       "      <td>1</td>\n",
       "      <td>21/01/2016</td>\n",
       "      <td>05:20:00</td>\n",
       "      <td>...</td>\n",
       "      <td>AVENIDA</td>\n",
       "      <td>SAN JUAN AV.</td>\n",
       "      <td>SI</td>\n",
       "      <td>SAN JUAN AV. y SAENZ PEÃ‘A, LUIS, PRES.</td>\n",
       "      <td>1</td>\n",
       "      <td>-58.38718297</td>\n",
       "      <td>-34.62246630</td>\n",
       "      <td>MOTO-PASAJEROS</td>\n",
       "      <td>MOTO</td>\n",
       "      <td>PASAJEROS</td>\n",
       "    </tr>\n",
       "  </tbody>\n",
       "</table>\n",
       "<p>5 rows × 22 columns</p>\n",
       "</div>"
      ],
      "text/plain": [
       "          ID  AAAA  MM  DD        ROL       SEXO  EDAD  NUMERO_VICTIMAS  \\\n",
       "0  2016-0001  2016   1   1  CONDUCTOR  MASCULINO    19                1   \n",
       "1  2016-0002  2016   1   2  CONDUCTOR  MASCULINO    70                1   \n",
       "2  2016-0003  2016   1   3  CONDUCTOR  MASCULINO    30                1   \n",
       "3  2016-0004  2016   1  10  CONDUCTOR  MASCULINO    18                1   \n",
       "4  2016-0005  2016   1  21  CONDUCTOR  MASCULINO    29                1   \n",
       "\n",
       "        FECHA    TIEMPO  ... TIPO_DE_CALLE             CALLE CRUCE  \\\n",
       "0  01/01/2016  04:00:00  ...       AVENIDA  PIEDRA BUENA AV.    SI   \n",
       "1  02/01/2016  01:15:00  ...      GRAL PAZ    PAZ, GRAL. AV.    SI   \n",
       "2  03/01/2016  07:00:00  ...       AVENIDA    ENTRE RIOS AV.    NO   \n",
       "3  10/01/2016  00:00:00  ...       AVENIDA    LARRAZABAL AV.    SI   \n",
       "4  21/01/2016  05:20:00  ...       AVENIDA      SAN JUAN AV.    SI   \n",
       "\n",
       "                               DIRECCION_NORMALIZADA COMUNA         POS_X  \\\n",
       "0  PIEDRA BUENA AV. y FERNANDEZ DE LA CRUZ, F., G...      8  -58.47533969   \n",
       "1               PAZ, GRAL. AV. y DE LOS CORRALES AV.      9  -58.50877521   \n",
       "2                                ENTRE RIOS AV. 2034      1  -58.39040293   \n",
       "3          LARRAZABAL AV. y VILLEGAS, CONRADO, GRAL.      8  -58.46503904   \n",
       "4            SAN JUAN AV. y SAENZ PEÃ‘A, LUIS, PRES.      1  -58.38718297   \n",
       "\n",
       "          POS_Y   PARTICIPANTES VICTIMA    ACUSADO  \n",
       "0  -34.68757022       MOTO-AUTO    MOTO       AUTO  \n",
       "1  -34.66977709  AUTO-PASAJEROS    AUTO  PASAJEROS  \n",
       "2  -34.63189362       MOTO-AUTO    MOTO       AUTO  \n",
       "3  -34.68092974         MOTO-SD    MOTO         SD  \n",
       "4  -34.62246630  MOTO-PASAJEROS    MOTO  PASAJEROS  \n",
       "\n",
       "[5 rows x 22 columns]"
      ]
     },
     "execution_count": 41,
     "metadata": {},
     "output_type": "execute_result"
    }
   ],
   "source": [
    "df_final = df_victimas.merge(df_hechos, on=\"ID\", how=\"left\")\n",
    "df_final.head(5)"
   ]
  },
  {
   "cell_type": "code",
   "execution_count": 42,
   "metadata": {},
   "outputs": [
    {
     "name": "stdout",
     "output_type": "stream",
     "text": [
      "<class 'pandas.core.frame.DataFrame'>\n",
      "RangeIndex: 717 entries, 0 to 716\n",
      "Data columns (total 22 columns):\n",
      " #   Column                 Non-Null Count  Dtype \n",
      "---  ------                 --------------  ----- \n",
      " 0   ID                     717 non-null    object\n",
      " 1   AAAA                   717 non-null    int64 \n",
      " 2   MM                     717 non-null    int64 \n",
      " 3   DD                     717 non-null    int64 \n",
      " 4   ROL                    717 non-null    object\n",
      " 5   SEXO                   717 non-null    object\n",
      " 6   EDAD                   717 non-null    int32 \n",
      " 7   NUMERO_VICTIMAS        717 non-null    int64 \n",
      " 8   FECHA                  717 non-null    object\n",
      " 9   TIEMPO                 717 non-null    object\n",
      " 10  HORA                   717 non-null    object\n",
      " 11  LUGAR_DEL_HECHO        717 non-null    object\n",
      " 12  TIPO_DE_CALLE          717 non-null    object\n",
      " 13  CALLE                  717 non-null    object\n",
      " 14  CRUCE                  717 non-null    object\n",
      " 15  DIRECCION_NORMALIZADA  717 non-null    object\n",
      " 16  COMUNA                 717 non-null    int64 \n",
      " 17  POS_X                  717 non-null    object\n",
      " 18  POS_Y                  717 non-null    object\n",
      " 19  PARTICIPANTES          717 non-null    object\n",
      " 20  VICTIMA                717 non-null    object\n",
      " 21  ACUSADO                717 non-null    object\n",
      "dtypes: int32(1), int64(5), object(16)\n",
      "memory usage: 120.6+ KB\n"
     ]
    }
   ],
   "source": [
    "df_final.info()"
   ]
  },
  {
   "cell_type": "markdown",
   "metadata": {},
   "source": [
    "### **Cargamos en un archivo CSV para guardar todos estos cambios:**  \n",
    "(Mi computadora revienta con facilidad, asi que tengo que guardar cualquier progreso importante!!!)"
   ]
  },
  {
   "cell_type": "code",
   "execution_count": 43,
   "metadata": {},
   "outputs": [],
   "source": [
    "df_final.to_csv(\"./datasets_transformados/homicidios_final.csv\", index=False, encoding='utf-8')"
   ]
  },
  {
   "cell_type": "markdown",
   "metadata": {},
   "source": [
    "## <u>**Gráficos:**</u>  \n",
    "Se buscara en este apartado del EDA generar gráficos que provean de información útil para analizar los datos   \n",
    "previamente procesados. En primer lugar obtenemos los datos del CSV 'homicidios_final.csv"
   ]
  },
  {
   "cell_type": "code",
   "execution_count": 44,
   "metadata": {},
   "outputs": [],
   "source": [
    "df = pd.read_csv(\"./datasets_transformados/homicidios_final.csv\", encoding='utf-8')"
   ]
  },
  {
   "cell_type": "code",
   "execution_count": 45,
   "metadata": {},
   "outputs": [
    {
     "data": {
      "text/plain": [
       "Index(['ID', 'AAAA', 'MM', 'DD', 'ROL', 'SEXO', 'EDAD', 'NUMERO_VICTIMAS',\n",
       "       'FECHA', 'TIEMPO', 'HORA', 'LUGAR_DEL_HECHO', 'TIPO_DE_CALLE', 'CALLE',\n",
       "       'CRUCE', 'DIRECCION_NORMALIZADA', 'COMUNA', 'POS_X', 'POS_Y',\n",
       "       'PARTICIPANTES', 'VICTIMA', 'ACUSADO'],\n",
       "      dtype='object')"
      ]
     },
     "execution_count": 45,
     "metadata": {},
     "output_type": "execute_result"
    }
   ],
   "source": [
    "# Visualizamos sus columnas:\n",
    "df.columns"
   ]
  },
  {
   "cell_type": "markdown",
   "metadata": {},
   "source": [
    "**Búsqueda de Outliers**  \n",
    "Las únicas columnas en las que podemos buscar outliers son 'EDAD' y 'NUMERO_VICTIMAS'  \n",
    "Buscamos outliers en la columna 'EDAD'"
   ]
  },
  {
   "cell_type": "code",
   "execution_count": 46,
   "metadata": {},
   "outputs": [
    {
     "data": {
      "image/png": "[encoded data removed]",
      "text/plain": [
       "<Figure size 640x480 with 1 Axes>"
      ]
     },
     "metadata": {},
     "output_type": "display_data"
    }
   ],
   "source": [
    "plt.boxplot(df['EDAD'])\n",
    "plt.show()"
   ]
  },
  {
   "cell_type": "markdown",
   "metadata": {},
   "source": [
    "Ningún outlier encontrado."
   ]
  },
  {
   "cell_type": "markdown",
   "metadata": {},
   "source": [
    "Buscamos outliers en la columna 'NUMERO_VICTIMAS'"
   ]
  },
  {
   "cell_type": "code",
   "execution_count": 47,
   "metadata": {},
   "outputs": [
    {
     "data": {
      "image/png": "[encoded data removed]",
      "text/plain": [
       "<Figure size 640x480 with 1 Axes>"
      ]
     },
     "metadata": {},
     "output_type": "display_data"
    },
    {
     "name": "stdout",
     "output_type": "stream",
     "text": [
      "NUMERO_VICTIMAS\n",
      "1    676\n",
      "2     38\n",
      "3      3\n",
      "Name: count, dtype: int64\n"
     ]
    }
   ],
   "source": [
    "plt.boxplot(df['NUMERO_VICTIMAS'])\n",
    "plt.show()\n",
    "\n",
    "# Vemos la frecuencia de valores en la columna 'NUMERO_VICTIMAS'\n",
    "print(df[\"NUMERO_VICTIMAS\"].value_counts())"
   ]
  },
  {
   "cell_type": "markdown",
   "metadata": {},
   "source": [
    "Debido a que la mayoría de accidentes solo poseen una víctima fatal (676 casos), casos con dos (38 casos) o tres víctimas (solo 3 casos) son más raros y por lo tanto son outliers para el boxplot, pero no son ningún error ni se deben cambiar."
   ]
  },
  {
   "cell_type": "markdown",
   "metadata": {},
   "source": [
    "#### **Empezamos con los gráficos de verdad.**  \n",
    "**1) Primer Gráfico: Distribución de la variable 'EDAD'**"
   ]
  },
  {
   "cell_type": "code",
   "execution_count": 48,
   "metadata": {},
   "outputs": [
    {
     "data": {
      "image/png": "[encoded data removed]",
      "text/plain": [
       "<Figure size 800x400 with 1 Axes>"
      ]
     },
     "metadata": {},
     "output_type": "display_data"
    }
   ],
   "source": [
    "plt.figure(figsize=(8, 4))\n",
    "sns.histplot(df['EDAD'], kde=True, bins=30)\n",
    "plt.title('Distribución de Edades')\n",
    "plt.xlabel('Edades')\n",
    "plt.ylabel('Frecuencias')\n",
    "plt.show()"
   ]
  },
  {
   "cell_type": "markdown",
   "metadata": {},
   "source": [
    "En este gráfico podemos observar que la mayor parte de las víctimas se encuentra entre los 20 y 40 años. Pero la cantidad de casos en mayores o iguales a 50 años es bastante alarmante."
   ]
  },
  {
   "cell_type": "markdown",
   "metadata": {},
   "source": [
    "**2) Segundo Gráfico: Cantidad de casos mensuales por año**"
   ]
  },
  {
   "cell_type": "code",
   "execution_count": 49,
   "metadata": {},
   "outputs": [
    {
     "data": {
      "image/png": "[encoded data removed]",
      "text/plain": [
       "<Figure size 1200x600 with 6 Axes>"
      ]
     },
     "metadata": {},
     "output_type": "display_data"
    }
   ],
   "source": [
    " # Se obtiene una lista de años únicos\n",
    "años = df['AAAA'].unique()\n",
    "\n",
    "# Se define el número de filas y columnas para la cuadrícula de subgráficos\n",
    "n_filas = 3\n",
    "n_columnas = 2\n",
    "\n",
    "# Se crea una figura con subgráficos en una cuadrícula de 2x3\n",
    "fig, axes = plt.subplots(n_filas, n_columnas, figsize=(12, 6))\n",
    "\n",
    "# Se itera a través de los años y crea un gráfico por año\n",
    "for i, year in enumerate(años):\n",
    "    fila = i // n_columnas\n",
    "    columna = i % n_columnas\n",
    "    \n",
    "    # Se filtran los datos para el año actual y agrupa por mes\n",
    "    data_mensual = (df[df['AAAA'] == year]\n",
    "                    .groupby('MM')\n",
    "                    .agg({'NUMERO_VICTIMAS':'sum'}))\n",
    "    \n",
    "    # Se configura el subgráfico actual\n",
    "    ax = axes[fila, columna]\n",
    "    data_mensual.plot(ax=ax, kind='line')\n",
    "    ax.set_title('Año ' + str(year)) ; ax.set_xlabel('Mes') ; ax.set_ylabel('Cantidad de Víctimas')\n",
    "    ax.legend_ = None\n",
    "    \n",
    "# Se muestra y acomoda el gráfico\n",
    "plt.tight_layout()\n",
    "plt.show()"
   ]
  },
  {
   "cell_type": "markdown",
   "metadata": {},
   "source": [
    "No se observa ningún patrón aparente entre los casos mensuales por año, solo una disminución de los casos durante la pandemia de diciembre de 2019 hasta agosto de 2020 y su subida en noviembre del mismo año."
   ]
  },
  {
   "cell_type": "markdown",
   "metadata": {},
   "source": [
    "**3) Tercer Gráfico: Cantidad de casos por mes**"
   ]
  },
  {
   "cell_type": "code",
   "execution_count": 50,
   "metadata": {},
   "outputs": [
    {
     "data": {
      "image/png": "[encoded data removed]",
      "text/plain": [
       "<Figure size 600x400 with 1 Axes>"
      ]
     },
     "metadata": {},
     "output_type": "display_data"
    }
   ],
   "source": [
    "data= df.groupby('MM').agg({'NUMERO_VICTIMAS':'sum'}).reset_index()\n",
    "\n",
    "#Se realiza el gráfico de barras\n",
    "plt.figure(figsize=(6,4))\n",
    "ax= sns.barplot(data=data, x='MM', y='NUMERO_VICTIMAS', palette= plt.cm.rainbow(np.linspace(0,1, len(data))) )\n",
    "ax.set_title('Cantidad de víctimas por mes')\n",
    "ax.set_xlabel('Mes')\n",
    "ax.set_ylabel('Cantidad de víctimas')\n",
    "\n",
    "#Se muestra el gráfico\n",
    "plt.show()"
   ]
  },
  {
   "cell_type": "markdown",
   "metadata": {},
   "source": [
    "Se puede observar que los meses con más víctimas son agosto, noviembre y diciembre co un claro pico de víctimas en diciembre. Y los meses con menos víctimas son julio y octubre."
   ]
  },
  {
   "cell_type": "markdown",
   "metadata": {},
   "source": [
    "**4) Cuarto Gráfico: Cantidad de casos por si es un día normal o fin de semana**"
   ]
  },
  {
   "cell_type": "code",
   "execution_count": 51,
   "metadata": {},
   "outputs": [
    {
     "data": {
      "image/png": "[encoded data removed]",
      "text/plain": [
       "<Figure size 600x400 with 1 Axes>"
      ]
     },
     "metadata": {},
     "output_type": "display_data"
    }
   ],
   "source": [
    "# Se convierte la columna 'fecha' a tipo de dato datetime\n",
    "df['FECHA'] = pd.to_datetime(df['FECHA'], format='%d/%m/%Y')\n",
    "\n",
    "# Se extrae el día de la semana (0 = lunes, 6 = domingo)\n",
    "df['DIA_SEMANA'] = df['FECHA'].dt.dayofweek\n",
    "\n",
    "# Se crea una columna 'tipo_dia' para diferenciar entre semana y fin de semana\n",
    "df['TIPO_DIA'] = df['DIA_SEMANA'].apply(lambda x: 'FIN DE SEMANA' if x >= 5 else 'SEMANA')\n",
    "\n",
    "# Se cuenta la cantidad de accidentes por tipo de día\n",
    "data = df['TIPO_DIA'].value_counts().reset_index()\n",
    "data.columns = ['TIPO_DIA', 'CANTIDAD_ACCIDENTES']\n",
    "\n",
    "# Se crea el gráfico de barras\n",
    "plt.figure(figsize=(6, 4))\n",
    "ax = sns.barplot(x='TIPO_DIA', y='CANTIDAD_ACCIDENTES', data=data)\n",
    "\n",
    "ax.set_title('Cantidad de accidentes por tipo de día') ; ax.set_xlabel('Tipo de día') ; ax.set_ylabel('Cantidad de accidentes')\n",
    "plt.show()"
   ]
  },
  {
   "cell_type": "markdown",
   "metadata": {},
   "source": [
    "Se puede observar que la mayoria de los accidentes ocurre durante la semana, aunque podria esto deberse a la acumulación de los cinco días de la semana comparado con solo los dos días del fin de semana. No parece correcto decir que hay una tendencia de accidentes durante la semana."
   ]
  },
  {
   "cell_type": "markdown",
   "metadata": {},
   "source": [
    "**5) Quinto Gráfico: Distribución de la variable Sexo**"
   ]
  },
  {
   "cell_type": "code",
   "execution_count": 52,
   "metadata": {},
   "outputs": [
    {
     "data": {
      "image/png": "[encoded data removed]",
      "text/plain": [
       "<Figure size 600x600 with 1 Axes>"
      ]
     },
     "metadata": {},
     "output_type": "display_data"
    }
   ],
   "source": [
    "gender_counts = df['SEXO'].value_counts()\n",
    "plt.figure(figsize=(6, 6))\n",
    "gender_counts.plot(kind='pie', autopct='%1.1f%%', startangle=140, colors=['lightblue', 'orange'])\n",
    "plt.title('Distribución de Géneros')\n",
    "plt.ylabel('')  \n",
    "plt.show()"
   ]
  },
  {
   "cell_type": "markdown",
   "metadata": {},
   "source": [
    "Podemos observar que la nayoría de las vítimas (76.8%) son hombres y el resto mujeres."
   ]
  },
  {
   "cell_type": "markdown",
   "metadata": {},
   "source": [
    "**6) Sexto Gráfico: Cantidad de víctimas por sexo, rol y vehiculo (de la víctima)**"
   ]
  },
  {
   "cell_type": "code",
   "execution_count": 53,
   "metadata": {},
   "outputs": [
    {
     "data": {
      "image/png": "[encoded data removed]",
      "text/plain": [
       "<Figure size 1500x400 with 2 Axes>"
      ]
     },
     "metadata": {},
     "output_type": "display_data"
    }
   ],
   "source": [
    "# Se crea el gráfico\n",
    "fig, axes = plt.subplots(1, 2, figsize=(15, 4))\n",
    "\n",
    "# Se definen los colores\n",
    "colores = ['orange', 'lightblue']\n",
    "\n",
    "# Gráfico 1: Rol\n",
    "df_rol = df.groupby(['ROL', 'SEXO']).size().unstack(fill_value=0)\n",
    "df_rol.plot(kind='bar', stacked=True, ax=axes[0], color=colores)\n",
    "axes[0].set_title('Cantidad de víctimas por rol') ; axes[0].set_ylabel('Cantidad de víctimas') ; axes[0].tick_params(axis='x', rotation=45)\n",
    "\n",
    "# Gráfico 2: Tipo de vehículo\n",
    "df_victima = df.groupby(['VICTIMA', 'SEXO']).size().unstack(fill_value=0)\n",
    "df_victima.plot(kind='bar', stacked=True, ax=axes[1], color=colores)\n",
    "axes[1].set_title('Cantidad de víctimas por tipo de vehículo') ; axes[1].set_ylabel('Cantidad de víctimas') ; axes[1].tick_params(axis='x', rotation=45)\n",
    "\n",
    "plt.show()   "
   ]
  },
  {
   "cell_type": "markdown",
   "metadata": {},
   "source": [
    "Se aprecia que el rol más común de las víctimas masculinas es el de conductor mientras que su tipo de vehículo más recurrente es la moto. En cambio el sexo femenino es el rol de peatón o acompañante mientras que es alarmante como el casi mayor número de muertos tanto de hombres como de mujeres es siendo peatones, en este caso la diferencia de sexos es menos pronunciada."
   ]
  },
  {
   "cell_type": "markdown",
   "metadata": {},
   "source": [
    "**7) Séptimo Gráfico: Tipos de calles y cruces**"
   ]
  },
  {
   "cell_type": "code",
   "execution_count": 54,
   "metadata": {},
   "outputs": [
    {
     "data": {
      "image/png": "[encoded data removed]",
      "text/plain": [
       "<Figure size 1000x400 with 2 Axes>"
      ]
     },
     "metadata": {},
     "output_type": "display_data"
    }
   ],
   "source": [
    "fig, axes = plt.subplots(1, 2, figsize=(10, 4))\n",
    "\n",
    "sns.countplot(data=df, x='TIPO_DE_CALLE', ax=axes[0])\n",
    "axes[0].set_title('Cantidad de víctimas por tipo de calle') ; axes[0].set_ylabel('Cantidad de víctimas') ; axes[0].set_xlabel(\"Tipo de Calle\")\n",
    "\n",
    "sns.countplot(data=df, x='CRUCE', ax=axes[1])\n",
    "axes[1].set_title('Cantidad de víctimas en cruces') ; axes[1].set_ylabel('Cantidad de víctimas') ; axes[1].set_xlabel(\"Cruce\")\n",
    "\n",
    "plt.show()"
   ]
  },
  {
   "cell_type": "markdown",
   "metadata": {},
   "source": [
    "Podemos decir que la mayoría de accidentes ocurren en avenidas y específicamente en cruces, bastante lógico  \n",
    "pero aquí se ve claramente sin asumir nada."
   ]
  },
  {
   "cell_type": "markdown",
   "metadata": {},
   "source": [
    "**8) Octavo Gráfico: Accidentes por Comuna**"
   ]
  },
  {
   "cell_type": "code",
   "execution_count": 55,
   "metadata": {},
   "outputs": [
    {
     "data": {
      "image/png": "[encoded data removed]",
      "text/plain": [
       "<Figure size 640x480 with 1 Axes>"
      ]
     },
     "metadata": {},
     "output_type": "display_data"
    }
   ],
   "source": [
    "sns.countplot(data=df, x=\"COMUNA\", hue=\"COMUNA\" , palette=\"viridis\", saturation=0.8, order=df[\"COMUNA\"].value_counts().index )\n",
    "plt.title(\"Accidentes por Comuna\")\n",
    "plt.ylabel(\"Cantidad de Víctimas\")\n",
    "plt.xlabel(\"Comunas\")\n",
    "plt.legend().remove()\n",
    "plt.show()"
   ]
  },
  {
   "cell_type": "markdown",
   "metadata": {},
   "source": [
    "Podemos observar que claramente las tres comunas con más accidentes son la 1, 4 (es lógico ya que están en Puerto Madero) y 9, seguidas muy de cerca por la 8 y 7. Debería hacerse un estudio más detallado para saber el por qué exacto de estos resultados."
   ]
  },
  {
   "cell_type": "markdown",
   "metadata": {},
   "source": [
    "## <u>**KPI's:**</u>  \n",
    "Se buscara en este apartado del EDA analizar las KPI's necesarias para este proyecto, empezando en primer lugar por:  \n",
    "\n",
    "1) **Reducir en un 10% la tasa de homicidios en siniestros viales de los últimos seis meses, en CABA, en comparación con la tasa de homicidios en siniestros viales del semestre anterior.**  \n",
    "\n",
    "Definimos a la tasa de homicidios en siniestros viales como el número de víctimas fatales en accidentes de tránsito por cada 100,000 habitantes en un área geográfica durante un período de tiempo específico. Su fórmula es: (Número de homicidios en siniestros viales / Población total) * 100,000\n",
    "\n",
    "Según el censo de 2022 la población de la Ciudad Autónoma de Buenos Aires es: 3.121.707 habitantes "
   ]
  },
  {
   "cell_type": "code",
   "execution_count": 56,
   "metadata": {},
   "outputs": [
    {
     "name": "stdout",
     "output_type": "stream",
     "text": [
      "Periodo de este (último) semestre, inicio: |2021-06-30 00:00:00|, hasta |2021-12-30 00:00:00|\n",
      "Periodo del semestre anterior al último, inicio: |2020-12-29 00:00:00|, hasta |2021-06-29 00:00:00| \n",
      "\n",
      "Número de accidentes en el último semestre: 42\n",
      "Número de accidentes en el semestre anterior: 55 \n",
      "\n",
      "Tasa de homicidios por cada 100 mil habitantes en el último semestre: 1.3454\n",
      "Tasa de homicidios por cada 100 mil habitantes en el semestre anterior: 1.7619 \n",
      "\n",
      "Cambio porcentual entre el último semestre en comparación con el semestre anterior: -23.64%\n"
     ]
    }
   ],
   "source": [
    "# Definimos la variable población:\n",
    "poblacion = 3121707\n",
    "\n",
    "# Convertimos a datetime la columna \"FECHA\"\n",
    "df[\"FECHA\"] = pd.to_datetime(df[\"FECHA\"], format='%d/%m/%Y')\n",
    "\n",
    "# Obtenemos en una variable la fecha más reciente:\n",
    "ultima_fecha = df[\"FECHA\"].max()\n",
    "\n",
    "# Ahora buscaremos obtener nuestro 'semestre más reciente' y compararlo con el semestre anterior\n",
    "# Guardamos en una nueva varible el fin de este semestre y su inicio:\n",
    "fin_de_semestre = ultima_fecha\n",
    "inicio_de_semestre = fin_de_semestre - pd.DateOffset(months=6)\n",
    "\n",
    "# Ahora buscaremos el inicio y fin del semestre anterior:\n",
    "fin_de_semestre_anterior = inicio_de_semestre - pd.DateOffset(days=1)\n",
    "inicio_de_semestre_anterior = fin_de_semestre_anterior - pd.DateOffset(months=6)\n",
    "\n",
    "# Ahora buscamos los accidentes por semestre:\n",
    "accidentes_semestre = df[(df['FECHA'] >= inicio_de_semestre) & (df['FECHA'] <= fin_de_semestre)]\n",
    "accidentes_semestre_anterior = df[(df['FECHA'] >= inicio_de_semestre_anterior) & (df['FECHA'] <= fin_de_semestre_anterior)]\n",
    "\n",
    "# Obtenemos el número de accidentes por semestre:\n",
    "num_accidentes_semestre = len(accidentes_semestre)\n",
    "num_accidentes_semestre_anterior = len(accidentes_semestre_anterior)\n",
    "\n",
    "# Definimos la tasa de homicidios para cada semestre:\n",
    "tasa_semestre = (num_accidentes_semestre / poblacion) * 100000\n",
    "tasa_semestre_anterior = (num_accidentes_semestre_anterior / poblacion) * 100000\n",
    "\n",
    "# Definimos el cambio porcentual entre semestres: \n",
    "# ((Tasa del último semestre − Tasa del semestre anterior) / Tasa del semestre anterior) * 100\n",
    "diferencia_porcentual_semestres = ((tasa_semestre - tasa_semestre_anterior) / tasa_semestre_anterior) * 100\n",
    "\n",
    "# Imprimimos nuestros hallazgos:\n",
    "print(f\"Periodo de este (último) semestre, inicio: |{inicio_de_semestre}|, hasta |{fin_de_semestre}|\")\n",
    "print(f\"Periodo del semestre anterior al último, inicio: |{inicio_de_semestre_anterior}|, hasta |{fin_de_semestre_anterior}| \\n\")\n",
    "print(f\"Número de accidentes en el último semestre: {num_accidentes_semestre}\")\n",
    "print(f\"Número de accidentes en el semestre anterior: {num_accidentes_semestre_anterior} \\n\")\n",
    "print(f\"Tasa de homicidios por cada 100 mil habitantes en el último semestre: {round(tasa_semestre, 4)}\")\n",
    "print(f\"Tasa de homicidios por cada 100 mil habitantes en el semestre anterior: {round(tasa_semestre_anterior, 4)} \\n\")\n",
    "print(f\"Cambio porcentual entre el último semestre en comparación con el semestre anterior: {round(diferencia_porcentual_semestres, 2)}%\")"
   ]
  },
  {
   "cell_type": "markdown",
   "metadata": {},
   "source": [
    "Como podemos observar la diferencia entre ambos semestres es la reducción en un 23.64% de las victimas en accidentes fatales en este último semestre, comparado con el semestre anterior, por lo tanto **si se logro** el objetivo."
   ]
  },
  {
   "cell_type": "code",
   "execution_count": 57,
   "metadata": {},
   "outputs": [
    {
     "name": "stdout",
     "output_type": "stream",
     "text": [
      "Resultado de la KPI: (True, -23.64)\n"
     ]
    }
   ],
   "source": [
    "objetivo_reduccion = -10\n",
    "kpi_cumplimiento = diferencia_porcentual_semestres <= objetivo_reduccion\n",
    "resultado = (kpi_cumplimiento, round(diferencia_porcentual_semestres, 2))\n",
    "print(f\"Resultado de la KPI: {resultado}\")"
   ]
  },
  {
   "cell_type": "markdown",
   "metadata": {},
   "source": [
    "2) **Reducir en un 7% la cantidad de accidentes mortales de motociclistas en el último año, en CABA, respecto al año anterior.**\n",
    "\n",
    "Definimos a la cantidad de accidentes mortales de motociclistas en siniestros viales como el número absoluto de accidentes fatales en los que estuvieron involucradas víctimas que viajaban en moto en un determinado periodo temporal. Su fórmula para medir la evolución de los accidentes mortales con víctimas en moto es:   \n",
    "\n",
    "**Esta fórmula esta mal :(**  \n",
    "((Número de accidentes mortales con víctimas en moto en el año anterior - Número de accidentes mortales con víctimas en moto en el año actual) / Número de accidentes mortales con víctimas en moto en el año anterior) * 100  \n",
    "\n",
    "**Esta fórmula esta bien :)**  \n",
    "((Número de accidentes mortales con víctimas en moto en el año actual - Número de accidentes mortales con víctimas en moto en el año anterior) / Número de accidentes mortales con víctimas en moto en el año anterior) * 100\n",
    "\n",
    "La fórmula que nos entregaron al usarla me daba un número negativo, como si hubiera una reducción, pero en cambio el número de víctimas en moto en el último año ha aumentado. En la otra fórmula que dice que esta bien solo intercambie dos elementos para que esta sea correcta."
   ]
  },
  {
   "cell_type": "code",
   "execution_count": 58,
   "metadata": {},
   "outputs": [
    {
     "name": "stdout",
     "output_type": "stream",
     "text": [
      "Periodo último año, inicio: |2020-12-30 00:00:00| hasta |2021-12-30 00:00:00|\n",
      "Periodo año anterior al último, inicio: |2019-12-29 00:00:00 hasta |2020-12-29 00:00:00| \n",
      "\n",
      "Número de accidentes fatales en moto durante el último año: 46\n",
      "Número de accidentes fatales en moto durante el año anterior: 28 \n",
      "\n",
      "Cambio porcentual entre el último año en comparación con el año anterior: 64.29%\n"
     ]
    }
   ],
   "source": [
    "# Convertimos a datetime la columna \"FECHA\"\n",
    "df[\"FECHA\"] = pd.to_datetime(df[\"FECHA\"], format='%d/%m/%Y')\n",
    "\n",
    "# Obtenemos en una variable la fecha más reciente:\n",
    "ultima_fecha = df[\"FECHA\"].max()\n",
    "\n",
    "# Obtenemos el año más reciente (último):\n",
    "fin_anio = ultima_fecha\n",
    "inicio_anio = fin_anio - pd.DateOffset(years=1)\n",
    "\n",
    "# Obtenemos el año anterior al último año:\n",
    "fin_anio_anterior = inicio_anio - pd.DateOffset(days=1)\n",
    "inicio_anio_anterior = fin_anio_anterior - pd.DateOffset(years=1)\n",
    "\n",
    "# Obtenemos un dataframe donde solo estan las victiams que son MOTOS\n",
    "df_moto = df[df[\"VICTIMA\"] == \"MOTO\"]\n",
    "\n",
    "# Guardamos en una variable la cantidad de víctimas para cada año:\n",
    "moto_accidentes_anio = df_moto[(df_moto[\"FECHA\"] >= inicio_anio) & (df_moto[\"FECHA\"] <= fin_anio)]\n",
    "moto_accidentes_anio_anterior = df_moto[(df_moto[\"FECHA\"] >= inicio_anio_anterior) & (df_moto[\"FECHA\"] <= fin_anio_anterior)]\n",
    "\n",
    "# Obtenemos el número de accidentes por año:\n",
    "num_accidentes_anio = len(moto_accidentes_anio)\n",
    "num_accidentes_anio_anterior = len(moto_accidentes_anio_anterior)\n",
    "\n",
    "# Definimos el cambio porcentual entre años: \n",
    "# ((Número de accidentes mortales con víctimas en moto en el año actual - Número de accidentes mortales con víctimas en moto en el año anterior) \n",
    "# / Número de accidentes mortales con víctimas en moto en el año anterior) * 100 \n",
    "diferencia_porcentual_anios = ((num_accidentes_anio - num_accidentes_anio_anterior) / num_accidentes_anio_anterior) * 100\n",
    "\n",
    "# Imprimimos nuestros hallazgos:\n",
    "print(f\"Periodo último año, inicio: |{inicio_anio}| hasta |{fin_anio}|\")\n",
    "print(f\"Periodo año anterior al último, inicio: |{inicio_anio_anterior} hasta |{fin_anio_anterior}| \\n\")\n",
    "print(f\"Número de accidentes fatales en moto durante el último año: {num_accidentes_anio}\")\n",
    "print(f\"Número de accidentes fatales en moto durante el año anterior: {num_accidentes_anio_anterior} \\n\")\n",
    "print(f\"Cambio porcentual entre el último año en comparación con el año anterior: {round(diferencia_porcentual_anios, 2)}%\")"
   ]
  },
  {
   "cell_type": "markdown",
   "metadata": {},
   "source": [
    "Como podemos observar la diferencia entre ambos años es el incremento en un 64.29% de las victimas en moto durante accidentes fatales en este último año 2020-2021, comparado con el año anterior, por lo tanto **no se logro** el objetivo."
   ]
  },
  {
   "cell_type": "code",
   "execution_count": 59,
   "metadata": {},
   "outputs": [
    {
     "name": "stdout",
     "output_type": "stream",
     "text": [
      "Resultado de la KPI: (False, 64.29)\n"
     ]
    }
   ],
   "source": [
    "objetivo_reduccion = -7\n",
    "kpi_cumplimiento = diferencia_porcentual_anios <= objetivo_reduccion\n",
    "resultado = (kpi_cumplimiento, round(diferencia_porcentual_anios, 2))\n",
    "print(f\"Resultado de la KPI: {resultado}\")"
   ]
  },
  {
   "cell_type": "markdown",
   "metadata": {},
   "source": [
    "Como solución a esta problemática se me ocurren ciertas propuestas: \n",
    "1) Análisis detallado de accidentes: Realizar un análisis detallado de los accidentes fatales de moto ocurridos durante el último año para identificar patrones, causas comunes y áreas de mayor riesgo.\n",
    "\n",
    "2) Capacitación y concienciación: Proporcionar capacitación adicional para conductores de motocicletas, enfocada en prácticas seguras de conducción, respeto a las normas de tránsito y concienciación sobre los riesgos asociados.\n",
    "\n",
    "3) Educación vial: Llevar a cabo campañas de concienciación pública sobre la importancia de compartir la carretera de manera segura, incluyendo la promoción del uso de cascos, chalecos reflectantes y otros equipos de protección personal.\n",
    "\n",
    "4) Vigilancia y aplicación de la ley: Reforzar la vigilancia policial en áreas de alta incidencia de accidentes de moto, y asegurar la aplicación efectiva de las leyes de tránsito, especialmente en lo que respecta al uso de cascos y otros requisitos de seguridad."
   ]
  }
 ],
 "metadata": {
  "kernelspec": {
   "display_name": "Python 3",
   "language": "python",
   "name": "python3"
  },
  "language_info": {
   "codemirror_mode": {
    "name": "ipython",
    "version": 3
   },
   "file_extension": ".py",
   "mimetype": "text/x-python",
   "name": "python",
   "nbconvert_exporter": "python",
   "pygments_lexer": "ipython3",
   "version": "3.10.11"
  }
 },
 "nbformat": 4,
 "nbformat_minor": 2
}
